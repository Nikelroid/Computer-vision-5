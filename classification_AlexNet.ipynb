{
  "nbformat": 4,
  "nbformat_minor": 0,
  "metadata": {
    "colab": {
      "name": "classification_AlexNet (1).ipynb",
      "provenance": [],
      "collapsed_sections": []
    },
    "kernelspec": {
      "name": "python3",
      "display_name": "Python 3"
    },
    "language_info": {
      "name": "python"
    },
    "accelerator": "GPU",
    "gpuClass": "standard",
    "widgets": {
      "application/vnd.jupyter.widget-state+json": {
        "ea88055c45b24946aa2dc8459b80b0f9": {
          "model_module": "@jupyter-widgets/controls",
          "model_name": "HBoxModel",
          "model_module_version": "1.5.0",
          "state": {
            "_dom_classes": [],
            "_model_module": "@jupyter-widgets/controls",
            "_model_module_version": "1.5.0",
            "_model_name": "HBoxModel",
            "_view_count": null,
            "_view_module": "@jupyter-widgets/controls",
            "_view_module_version": "1.5.0",
            "_view_name": "HBoxView",
            "box_style": "",
            "children": [
              "IPY_MODEL_17dde5989f954439985a8cd3e9c50a57",
              "IPY_MODEL_4c07e07a19554a2fa5fa2c6e5cc3228c",
              "IPY_MODEL_5fdca574b5aa4093937290c694d61887"
            ],
            "layout": "IPY_MODEL_dd933d5136e74e29a0ea8fb022b5019d"
          }
        },
        "17dde5989f954439985a8cd3e9c50a57": {
          "model_module": "@jupyter-widgets/controls",
          "model_name": "HTMLModel",
          "model_module_version": "1.5.0",
          "state": {
            "_dom_classes": [],
            "_model_module": "@jupyter-widgets/controls",
            "_model_module_version": "1.5.0",
            "_model_name": "HTMLModel",
            "_view_count": null,
            "_view_module": "@jupyter-widgets/controls",
            "_view_module_version": "1.5.0",
            "_view_name": "HTMLView",
            "description": "",
            "description_tooltip": null,
            "layout": "IPY_MODEL_477dfd16c4144598b848c5e5479d8023",
            "placeholder": "​",
            "style": "IPY_MODEL_202cb495632c44c8bb358e9c99bf3224",
            "value": "100%"
          }
        },
        "4c07e07a19554a2fa5fa2c6e5cc3228c": {
          "model_module": "@jupyter-widgets/controls",
          "model_name": "FloatProgressModel",
          "model_module_version": "1.5.0",
          "state": {
            "_dom_classes": [],
            "_model_module": "@jupyter-widgets/controls",
            "_model_module_version": "1.5.0",
            "_model_name": "FloatProgressModel",
            "_view_count": null,
            "_view_module": "@jupyter-widgets/controls",
            "_view_module_version": "1.5.0",
            "_view_name": "ProgressView",
            "bar_style": "success",
            "description": "",
            "description_tooltip": null,
            "layout": "IPY_MODEL_6510c45c74b94046b96daea47f966fd8",
            "max": 244408911,
            "min": 0,
            "orientation": "horizontal",
            "style": "IPY_MODEL_bb447a72167d4e9b994db39a876facc6",
            "value": 244408911
          }
        },
        "5fdca574b5aa4093937290c694d61887": {
          "model_module": "@jupyter-widgets/controls",
          "model_name": "HTMLModel",
          "model_module_version": "1.5.0",
          "state": {
            "_dom_classes": [],
            "_model_module": "@jupyter-widgets/controls",
            "_model_module_version": "1.5.0",
            "_model_name": "HTMLModel",
            "_view_count": null,
            "_view_module": "@jupyter-widgets/controls",
            "_view_module_version": "1.5.0",
            "_view_name": "HTMLView",
            "description": "",
            "description_tooltip": null,
            "layout": "IPY_MODEL_891eecf24f0843abb8bf503cbc54e0c2",
            "placeholder": "​",
            "style": "IPY_MODEL_185a2b3568f44493ae0a06fd38237edd",
            "value": " 233M/233M [00:02&lt;00:00, 88.6MB/s]"
          }
        },
        "dd933d5136e74e29a0ea8fb022b5019d": {
          "model_module": "@jupyter-widgets/base",
          "model_name": "LayoutModel",
          "model_module_version": "1.2.0",
          "state": {
            "_model_module": "@jupyter-widgets/base",
            "_model_module_version": "1.2.0",
            "_model_name": "LayoutModel",
            "_view_count": null,
            "_view_module": "@jupyter-widgets/base",
            "_view_module_version": "1.2.0",
            "_view_name": "LayoutView",
            "align_content": null,
            "align_items": null,
            "align_self": null,
            "border": null,
            "bottom": null,
            "display": null,
            "flex": null,
            "flex_flow": null,
            "grid_area": null,
            "grid_auto_columns": null,
            "grid_auto_flow": null,
            "grid_auto_rows": null,
            "grid_column": null,
            "grid_gap": null,
            "grid_row": null,
            "grid_template_areas": null,
            "grid_template_columns": null,
            "grid_template_rows": null,
            "height": null,
            "justify_content": null,
            "justify_items": null,
            "left": null,
            "margin": null,
            "max_height": null,
            "max_width": null,
            "min_height": null,
            "min_width": null,
            "object_fit": null,
            "object_position": null,
            "order": null,
            "overflow": null,
            "overflow_x": null,
            "overflow_y": null,
            "padding": null,
            "right": null,
            "top": null,
            "visibility": null,
            "width": null
          }
        },
        "477dfd16c4144598b848c5e5479d8023": {
          "model_module": "@jupyter-widgets/base",
          "model_name": "LayoutModel",
          "model_module_version": "1.2.0",
          "state": {
            "_model_module": "@jupyter-widgets/base",
            "_model_module_version": "1.2.0",
            "_model_name": "LayoutModel",
            "_view_count": null,
            "_view_module": "@jupyter-widgets/base",
            "_view_module_version": "1.2.0",
            "_view_name": "LayoutView",
            "align_content": null,
            "align_items": null,
            "align_self": null,
            "border": null,
            "bottom": null,
            "display": null,
            "flex": null,
            "flex_flow": null,
            "grid_area": null,
            "grid_auto_columns": null,
            "grid_auto_flow": null,
            "grid_auto_rows": null,
            "grid_column": null,
            "grid_gap": null,
            "grid_row": null,
            "grid_template_areas": null,
            "grid_template_columns": null,
            "grid_template_rows": null,
            "height": null,
            "justify_content": null,
            "justify_items": null,
            "left": null,
            "margin": null,
            "max_height": null,
            "max_width": null,
            "min_height": null,
            "min_width": null,
            "object_fit": null,
            "object_position": null,
            "order": null,
            "overflow": null,
            "overflow_x": null,
            "overflow_y": null,
            "padding": null,
            "right": null,
            "top": null,
            "visibility": null,
            "width": null
          }
        },
        "202cb495632c44c8bb358e9c99bf3224": {
          "model_module": "@jupyter-widgets/controls",
          "model_name": "DescriptionStyleModel",
          "model_module_version": "1.5.0",
          "state": {
            "_model_module": "@jupyter-widgets/controls",
            "_model_module_version": "1.5.0",
            "_model_name": "DescriptionStyleModel",
            "_view_count": null,
            "_view_module": "@jupyter-widgets/base",
            "_view_module_version": "1.2.0",
            "_view_name": "StyleView",
            "description_width": ""
          }
        },
        "6510c45c74b94046b96daea47f966fd8": {
          "model_module": "@jupyter-widgets/base",
          "model_name": "LayoutModel",
          "model_module_version": "1.2.0",
          "state": {
            "_model_module": "@jupyter-widgets/base",
            "_model_module_version": "1.2.0",
            "_model_name": "LayoutModel",
            "_view_count": null,
            "_view_module": "@jupyter-widgets/base",
            "_view_module_version": "1.2.0",
            "_view_name": "LayoutView",
            "align_content": null,
            "align_items": null,
            "align_self": null,
            "border": null,
            "bottom": null,
            "display": null,
            "flex": null,
            "flex_flow": null,
            "grid_area": null,
            "grid_auto_columns": null,
            "grid_auto_flow": null,
            "grid_auto_rows": null,
            "grid_column": null,
            "grid_gap": null,
            "grid_row": null,
            "grid_template_areas": null,
            "grid_template_columns": null,
            "grid_template_rows": null,
            "height": null,
            "justify_content": null,
            "justify_items": null,
            "left": null,
            "margin": null,
            "max_height": null,
            "max_width": null,
            "min_height": null,
            "min_width": null,
            "object_fit": null,
            "object_position": null,
            "order": null,
            "overflow": null,
            "overflow_x": null,
            "overflow_y": null,
            "padding": null,
            "right": null,
            "top": null,
            "visibility": null,
            "width": null
          }
        },
        "bb447a72167d4e9b994db39a876facc6": {
          "model_module": "@jupyter-widgets/controls",
          "model_name": "ProgressStyleModel",
          "model_module_version": "1.5.0",
          "state": {
            "_model_module": "@jupyter-widgets/controls",
            "_model_module_version": "1.5.0",
            "_model_name": "ProgressStyleModel",
            "_view_count": null,
            "_view_module": "@jupyter-widgets/base",
            "_view_module_version": "1.2.0",
            "_view_name": "StyleView",
            "bar_color": null,
            "description_width": ""
          }
        },
        "891eecf24f0843abb8bf503cbc54e0c2": {
          "model_module": "@jupyter-widgets/base",
          "model_name": "LayoutModel",
          "model_module_version": "1.2.0",
          "state": {
            "_model_module": "@jupyter-widgets/base",
            "_model_module_version": "1.2.0",
            "_model_name": "LayoutModel",
            "_view_count": null,
            "_view_module": "@jupyter-widgets/base",
            "_view_module_version": "1.2.0",
            "_view_name": "LayoutView",
            "align_content": null,
            "align_items": null,
            "align_self": null,
            "border": null,
            "bottom": null,
            "display": null,
            "flex": null,
            "flex_flow": null,
            "grid_area": null,
            "grid_auto_columns": null,
            "grid_auto_flow": null,
            "grid_auto_rows": null,
            "grid_column": null,
            "grid_gap": null,
            "grid_row": null,
            "grid_template_areas": null,
            "grid_template_columns": null,
            "grid_template_rows": null,
            "height": null,
            "justify_content": null,
            "justify_items": null,
            "left": null,
            "margin": null,
            "max_height": null,
            "max_width": null,
            "min_height": null,
            "min_width": null,
            "object_fit": null,
            "object_position": null,
            "order": null,
            "overflow": null,
            "overflow_x": null,
            "overflow_y": null,
            "padding": null,
            "right": null,
            "top": null,
            "visibility": null,
            "width": null
          }
        },
        "185a2b3568f44493ae0a06fd38237edd": {
          "model_module": "@jupyter-widgets/controls",
          "model_name": "DescriptionStyleModel",
          "model_module_version": "1.5.0",
          "state": {
            "_model_module": "@jupyter-widgets/controls",
            "_model_module_version": "1.5.0",
            "_model_name": "DescriptionStyleModel",
            "_view_count": null,
            "_view_module": "@jupyter-widgets/base",
            "_view_module_version": "1.2.0",
            "_view_name": "StyleView",
            "description_width": ""
          }
        }
      }
    }
  },
  "cells": [
    {
      "cell_type": "code",
      "source": [
        "!pip install -U albumentations\n",
        "!pip install opencv-python-headless==4.1.2.30"
      ],
      "metadata": {
        "id": "ECHJuE-K4PJM",
        "colab": {
          "base_uri": "https://localhost:8080/"
        },
        "outputId": "e1c894b4-4f36-4d7f-f2f5-a48fc6c42891"
      },
      "execution_count": null,
      "outputs": [
        {
          "output_type": "stream",
          "name": "stdout",
          "text": [
            "Looking in indexes: https://pypi.org/simple, https://us-python.pkg.dev/colab-wheels/public/simple/\n",
            "Requirement already satisfied: albumentations in /usr/local/lib/python3.7/dist-packages (1.2.1)\n",
            "Requirement already satisfied: numpy>=1.11.1 in /usr/local/lib/python3.7/dist-packages (from albumentations) (1.21.6)\n",
            "Requirement already satisfied: scipy in /usr/local/lib/python3.7/dist-packages (from albumentations) (1.7.3)\n",
            "Requirement already satisfied: PyYAML in /usr/local/lib/python3.7/dist-packages (from albumentations) (3.13)\n",
            "Requirement already satisfied: opencv-python-headless>=4.1.1 in /usr/local/lib/python3.7/dist-packages (from albumentations) (4.1.2.30)\n",
            "Requirement already satisfied: qudida>=0.0.4 in /usr/local/lib/python3.7/dist-packages (from albumentations) (0.0.4)\n",
            "Requirement already satisfied: scikit-image>=0.16.1 in /usr/local/lib/python3.7/dist-packages (from albumentations) (0.18.3)\n",
            "Requirement already satisfied: scikit-learn>=0.19.1 in /usr/local/lib/python3.7/dist-packages (from qudida>=0.0.4->albumentations) (1.0.2)\n",
            "Requirement already satisfied: typing-extensions in /usr/local/lib/python3.7/dist-packages (from qudida>=0.0.4->albumentations) (4.1.1)\n",
            "Requirement already satisfied: matplotlib!=3.0.0,>=2.0.0 in /usr/local/lib/python3.7/dist-packages (from scikit-image>=0.16.1->albumentations) (3.2.2)\n",
            "Requirement already satisfied: imageio>=2.3.0 in /usr/local/lib/python3.7/dist-packages (from scikit-image>=0.16.1->albumentations) (2.4.1)\n",
            "Requirement already satisfied: pillow!=7.1.0,!=7.1.1,>=4.3.0 in /usr/local/lib/python3.7/dist-packages (from scikit-image>=0.16.1->albumentations) (7.1.2)\n",
            "Requirement already satisfied: tifffile>=2019.7.26 in /usr/local/lib/python3.7/dist-packages (from scikit-image>=0.16.1->albumentations) (2021.11.2)\n",
            "Requirement already satisfied: networkx>=2.0 in /usr/local/lib/python3.7/dist-packages (from scikit-image>=0.16.1->albumentations) (2.6.3)\n",
            "Requirement already satisfied: PyWavelets>=1.1.1 in /usr/local/lib/python3.7/dist-packages (from scikit-image>=0.16.1->albumentations) (1.3.0)\n",
            "Requirement already satisfied: kiwisolver>=1.0.1 in /usr/local/lib/python3.7/dist-packages (from matplotlib!=3.0.0,>=2.0.0->scikit-image>=0.16.1->albumentations) (1.4.3)\n",
            "Requirement already satisfied: python-dateutil>=2.1 in /usr/local/lib/python3.7/dist-packages (from matplotlib!=3.0.0,>=2.0.0->scikit-image>=0.16.1->albumentations) (2.8.2)\n",
            "Requirement already satisfied: cycler>=0.10 in /usr/local/lib/python3.7/dist-packages (from matplotlib!=3.0.0,>=2.0.0->scikit-image>=0.16.1->albumentations) (0.11.0)\n",
            "Requirement already satisfied: pyparsing!=2.0.4,!=2.1.2,!=2.1.6,>=2.0.1 in /usr/local/lib/python3.7/dist-packages (from matplotlib!=3.0.0,>=2.0.0->scikit-image>=0.16.1->albumentations) (3.0.9)\n",
            "Requirement already satisfied: six>=1.5 in /usr/local/lib/python3.7/dist-packages (from python-dateutil>=2.1->matplotlib!=3.0.0,>=2.0.0->scikit-image>=0.16.1->albumentations) (1.15.0)\n",
            "Requirement already satisfied: threadpoolctl>=2.0.0 in /usr/local/lib/python3.7/dist-packages (from scikit-learn>=0.19.1->qudida>=0.0.4->albumentations) (3.1.0)\n",
            "Requirement already satisfied: joblib>=0.11 in /usr/local/lib/python3.7/dist-packages (from scikit-learn>=0.19.1->qudida>=0.0.4->albumentations) (1.1.0)\n",
            "Looking in indexes: https://pypi.org/simple, https://us-python.pkg.dev/colab-wheels/public/simple/\n",
            "Requirement already satisfied: opencv-python-headless==4.1.2.30 in /usr/local/lib/python3.7/dist-packages (4.1.2.30)\n",
            "Requirement already satisfied: numpy>=1.14.5 in /usr/local/lib/python3.7/dist-packages (from opencv-python-headless==4.1.2.30) (1.21.6)\n"
          ]
        }
      ]
    },
    {
      "cell_type": "code",
      "source": [
        "import matplotlib.pyplot as plt\n",
        "from pandas.core.common import flatten\n",
        "import cv2\n",
        "import copy\n",
        "import numpy as np\n",
        "import random\n",
        "\n",
        "import torch\n",
        "from torch import nn\n",
        "from torch import optim\n",
        "import torch.nn.functional as F\n",
        "from torchvision import datasets, transforms, models\n",
        "from torch.utils.data import Dataset, DataLoader\n",
        "\n",
        "import albumentations as A\n",
        "from albumentations.pytorch import ToTensorV2\n",
        "\n",
        "\n",
        "import glob\n",
        "from tqdm import tqdm\n"
      ],
      "metadata": {
        "id": "BZtlFLXy3n0J"
      },
      "execution_count": null,
      "outputs": []
    },
    {
      "cell_type": "code",
      "source": [
        "import cv2\n",
        "import numpy as np\n",
        "import tensorflow as tf\n",
        "from tensorflow import keras\n",
        "import matplotlib.pyplot as plt\n",
        "import os\n",
        "import time\n",
        "\n"
      ],
      "metadata": {
        "id": "TN-osEABvIv5"
      },
      "execution_count": null,
      "outputs": []
    },
    {
      "cell_type": "code",
      "source": [
        "from google.colab import drive \n",
        "drive.mount('/content/drive')\n",
        "import os\n",
        "os.chdir('/content/drive/My Drive/Vision')"
      ],
      "metadata": {
        "colab": {
          "base_uri": "https://localhost:8080/"
        },
        "id": "CYyH-kjgvmAP",
        "outputId": "95d59d71-0e56-4ff7-c389-4367c4c1e394"
      },
      "execution_count": null,
      "outputs": [
        {
          "output_type": "stream",
          "name": "stdout",
          "text": [
            "Drive already mounted at /content/drive; to attempt to forcibly remount, call drive.mount(\"/content/drive\", force_remount=True).\n"
          ]
        }
      ]
    },
    {
      "cell_type": "code",
      "source": [
        "train_data_path = 'Data/Train/'\n",
        "test_data_path = 'Data/Test/'\n",
        "\n",
        "train_image_paths = [] \n",
        "classes = [] \n",
        "\n",
        "\n",
        "for data_path in glob.glob(train_data_path + '/*'):\n",
        "    classes.append(data_path.split('/')[-1]) \n",
        "    train_image_paths.append(glob.glob(data_path + '/*'))\n",
        "    \n",
        "train_image_paths = list(flatten(train_image_paths))\n",
        "random.shuffle(train_image_paths)\n",
        "\n",
        "print('train_image_path example: ', train_image_paths[0])\n",
        "print('class example: ', classes[0])\n",
        "\n",
        "\n",
        "\n",
        "#3.\n",
        "# create the test_image_paths\n",
        "test_image_paths = []\n",
        "for data_path in glob.glob(test_data_path + '/*'):\n",
        "    test_image_paths.append(glob.glob(data_path + '/*'))\n",
        "\n",
        "test_image_paths = list(flatten(test_image_paths))\n",
        "\n",
        "print(\"Train size: {}\\nTest size: {}\".format(len(train_image_paths), len(test_image_paths)))"
      ],
      "metadata": {
        "id": "C04oyLEn1z9i",
        "colab": {
          "base_uri": "https://localhost:8080/"
        },
        "outputId": "30fb526f-2f13-4a8d-9393-53cc5d4527f2"
      },
      "execution_count": null,
      "outputs": [
        {
          "output_type": "stream",
          "name": "stdout",
          "text": [
            "train_image_path example:  Data/Train/Office/image_0131.jpg\n",
            "class example:  Tall_Building\n",
            "Train size: 2985\n",
            "Test size: 1500\n"
          ]
        }
      ]
    },
    {
      "cell_type": "code",
      "source": [
        "idx_to_class = {i:j for i, j in enumerate(classes)}\n",
        "class_to_idx = {value:key for key,value in idx_to_class.items()}"
      ],
      "metadata": {
        "id": "OzHuGT8I3Jpf"
      },
      "execution_count": null,
      "outputs": []
    },
    {
      "cell_type": "code",
      "source": [
        "from torch.utils.data import Dataset"
      ],
      "metadata": {
        "id": "n6KktkqU3L4p"
      },
      "execution_count": null,
      "outputs": []
    },
    {
      "cell_type": "code",
      "source": [
        "class LandmarkDataset(Dataset):\n",
        "    def __init__(self, image_paths, transform=False):\n",
        "        self.image_paths = image_paths\n",
        "        self.transform = transform\n",
        "        \n",
        "    def __len__(self):\n",
        "        return len(self.image_paths)\n",
        "\n",
        "    def __getitem__(self, idx):\n",
        "        image_filepath = self.image_paths[idx]\n",
        "        image = cv2.imread(image_filepath)\n",
        "        image = cv2.cvtColor(image, cv2.COLOR_BGR2RGB)\n",
        "        \n",
        "        label = image_filepath.split('/')[-2]\n",
        "        label = class_to_idx[label]\n",
        "        if self.transform is not None:\n",
        "            image = self.transform(image=image)[\"image\"]\n",
        "        \n",
        "        return image, label"
      ],
      "metadata": {
        "id": "10-ONmi_3TMY"
      },
      "execution_count": null,
      "outputs": []
    },
    {
      "cell_type": "code",
      "source": [
        "\n",
        "\n",
        "train_transforms = A.Compose(\n",
        "    [\n",
        "        A.Resize(height=227, width=227),\n",
        "        A.RandomBrightnessContrast(p=0.5),\n",
        "        A.MultiplicativeNoise(multiplier=[0.5,2], per_channel=False, p=0.2),\n",
        "        A.Normalize(mean=(0.485, 0.456, 0.406), std=(0.229, 0.224, 0.225)),\n",
        "        A.RandomBrightnessContrast(brightness_limit=(-0.1,0.1), contrast_limit=(-0.1, 0.1), p=0.5),\n",
        "        ToTensorV2(),\n",
        "    ]\n",
        ")\n",
        "\n",
        "test_transforms = A.Compose(\n",
        "    [\n",
        "        A.Resize(height=227, width=227),\n",
        "        A.Normalize(mean=(0.485, 0.456, 0.406), std=(0.229, 0.224, 0.225)),\n",
        "        ToTensorV2(),\n",
        "    ]\n",
        ")"
      ],
      "metadata": {
        "id": "5KZsC9313ea3"
      },
      "execution_count": null,
      "outputs": []
    },
    {
      "cell_type": "code",
      "source": [
        "trainset = LandmarkDataset(train_image_paths,train_transforms)\n",
        "valset = LandmarkDataset(test_image_paths,test_transforms)"
      ],
      "metadata": {
        "id": "fpP3pSKW3XcM"
      },
      "execution_count": null,
      "outputs": []
    },
    {
      "cell_type": "code",
      "source": [
        "print('The shape of tensor for 50th image in train dataset: ',trainset[49][0].shape)\n",
        "print('The label for 50th image in train dataset: ',valset[49][1])"
      ],
      "metadata": {
        "id": "4GV5NNeC7wsW",
        "colab": {
          "base_uri": "https://localhost:8080/"
        },
        "outputId": "e737b15f-7ef2-410e-f5a2-0144db75d71a"
      },
      "execution_count": null,
      "outputs": [
        {
          "output_type": "stream",
          "name": "stdout",
          "text": [
            "The shape of tensor for 50th image in train dataset:  torch.Size([3, 227, 227])\n",
            "The label for 50th image in train dataset:  0\n"
          ]
        }
      ]
    },
    {
      "cell_type": "code",
      "source": [
        "from torch.utils.data import DataLoader"
      ],
      "metadata": {
        "id": "W7IR5JCH8JcM"
      },
      "execution_count": null,
      "outputs": []
    },
    {
      "cell_type": "code",
      "source": [
        "trainloader = DataLoader(\n",
        "    trainset, batch_size=256, shuffle=True,num_workers=2\n",
        ")\n",
        "\n",
        "\n",
        "valloader = DataLoader(\n",
        "    valset, batch_size=1024, shuffle=False,num_workers=2\n",
        ")\n",
        "\n",
        "testloader = valloader"
      ],
      "metadata": {
        "id": "oVFqSQF38QPC"
      },
      "execution_count": null,
      "outputs": []
    },
    {
      "cell_type": "code",
      "source": [
        "device = torch.device('cuda' if torch.cuda.is_available() else 'cpu')\n",
        "device"
      ],
      "metadata": {
        "id": "d10BVqtxgWmM",
        "colab": {
          "base_uri": "https://localhost:8080/"
        },
        "outputId": "8e0a70a6-a2fd-492e-8983-016c05e58d01"
      },
      "execution_count": null,
      "outputs": [
        {
          "output_type": "execute_result",
          "data": {
            "text/plain": [
              "device(type='cuda')"
            ]
          },
          "metadata": {},
          "execution_count": 14
        }
      ]
    },
    {
      "cell_type": "code",
      "source": [
        "import torchvision\n",
        "from torchvision import transforms"
      ],
      "metadata": {
        "id": "iRScyioaNJlT"
      },
      "execution_count": null,
      "outputs": []
    },
    {
      "cell_type": "code",
      "source": [
        "import matplotlib.pyplot as plt\n",
        "\n",
        "fig = plt.figure(figsize=(20, 4))\n",
        "\n",
        "for i in range(20):\n",
        "    fig.add_subplot(2, 10, i + 1)\n",
        "    image, label = trainset[i]\n",
        "    plt.imshow(image.permute(1, 2, 0).numpy())\n",
        "    plt.title(classes[label])\n",
        "    plt.axis('off')\n",
        "\n",
        "plt.show()"
      ],
      "metadata": {
        "id": "QtPQNX9ORS0n",
        "colab": {
          "base_uri": "https://localhost:8080/",
          "height": 503
        },
        "outputId": "cfee704e-cb33-48e3-f666-b8c5e64eaafa"
      },
      "execution_count": null,
      "outputs": [
        {
          "output_type": "stream",
          "name": "stderr",
          "text": [
            "Clipping input data to the valid range for imshow with RGB data ([0..1] for floats or [0..255] for integers).\n",
            "Clipping input data to the valid range for imshow with RGB data ([0..1] for floats or [0..255] for integers).\n",
            "Clipping input data to the valid range for imshow with RGB data ([0..1] for floats or [0..255] for integers).\n",
            "Clipping input data to the valid range for imshow with RGB data ([0..1] for floats or [0..255] for integers).\n",
            "Clipping input data to the valid range for imshow with RGB data ([0..1] for floats or [0..255] for integers).\n",
            "Clipping input data to the valid range for imshow with RGB data ([0..1] for floats or [0..255] for integers).\n",
            "Clipping input data to the valid range for imshow with RGB data ([0..1] for floats or [0..255] for integers).\n",
            "Clipping input data to the valid range for imshow with RGB data ([0..1] for floats or [0..255] for integers).\n",
            "Clipping input data to the valid range for imshow with RGB data ([0..1] for floats or [0..255] for integers).\n",
            "Clipping input data to the valid range for imshow with RGB data ([0..1] for floats or [0..255] for integers).\n",
            "Clipping input data to the valid range for imshow with RGB data ([0..1] for floats or [0..255] for integers).\n",
            "Clipping input data to the valid range for imshow with RGB data ([0..1] for floats or [0..255] for integers).\n",
            "Clipping input data to the valid range for imshow with RGB data ([0..1] for floats or [0..255] for integers).\n",
            "Clipping input data to the valid range for imshow with RGB data ([0..1] for floats or [0..255] for integers).\n"
          ]
        },
        {
          "output_type": "display_data",
          "data": {
            "text/plain": [
              "<Figure size 1440x288 with 20 Axes>"
            ],
            "image/png": "[encoded data removed]"
          },
          "metadata": {
            "needs_background": "light"
          }
        }
      ]
    },
    {
      "cell_type": "code",
      "source": [
        "\n",
        "def train_epoch(net: nn.Module, criterion: nn.Module, optimizer: torch.optim.Optimizer, dataloader: torch.utils.data.DataLoader,   accs_train ,loss_train):\n",
        "\n",
        "    epoch_loss = 0\n",
        "    epoch_true = 0\n",
        "    epoch_all = 0\n",
        "    i = 0\n",
        "\n",
        "    # Set model to training mode\n",
        "    net.train()\n",
        "\n",
        "    # zero the parameter gradients\n",
        "    optimizer.zero_grad()\n",
        "\n",
        "    with tqdm(enumerate(dataloader), total=len(dataloader)) as pbar:\n",
        "        for i, (x, y) in pbar: \n",
        "\n",
        "            # Transfer data to device\n",
        "            x = x.to(device)  \n",
        "            y = y.to(device)\n",
        "\n",
        "            # forward\n",
        "            p = net(x)\n",
        "\n",
        "            # loss eval\n",
        "            loss = criterion(p, y)\n",
        "            epoch_loss += float(loss)\n",
        "\n",
        "            # predict \n",
        "            predictions = p.argmax(-1)\n",
        "            epoch_all += len(predictions)\n",
        "            epoch_true += (predictions == y).sum()\n",
        "            \n",
        "            # Computes accuracy and loss\n",
        "            pbar.set_description(f'Loss: {epoch_loss / (i + 1):.3e} - Acc: {epoch_true * 100. / epoch_all:.2f}%')\n",
        "\n",
        "\n",
        "            # Backward the error\n",
        "            loss.backward()\n",
        "            optimizer.step()\n",
        "\n",
        "            # zero the parameter gradients\n",
        "            optimizer.zero_grad()\n",
        "          \n",
        "        accs_train.append(float(epoch_true / epoch_all))\n",
        "        loss_train.append(float(epoch_loss / (i + 1)))\n",
        "    return accs_train,loss_train\n",
        "\n",
        "def eval_epoch(net: nn.Module, criterion: nn.Module, dataloader: torch.utils.data.DataLoader,    accs_test ,loss_test ):\n",
        "\n",
        "    epoch_loss = 0\n",
        "    epoch_true = 0\n",
        "    epoch_true_topfive = 0\n",
        "    epoch_all = 0\n",
        "    i = 0\n",
        "\n",
        "    # Set model to evaluate mode\n",
        "    net.eval()\n",
        "\n",
        "    with torch.no_grad(), tqdm(enumerate(dataloader), total=len(dataloader)) as pbar:\n",
        "        for i, (x, y) in pbar:\n",
        "\n",
        "            # Transfer data to device\n",
        "            x = x.to(device)\n",
        "            y = y.to(device)\n",
        "\n",
        "            # forward\n",
        "            p = net(x)\n",
        "\n",
        "            # loss eval\n",
        "            loss = criterion(p, y)\n",
        "            epoch_loss += float(loss)\n",
        "\n",
        "            # predict \n",
        "            predictions = p.argmax(-1)\n",
        "            epoch_all += len(predictions)\n",
        "            epoch_true += (predictions == y).sum()\n",
        "\n",
        "            pbar.set_description(f'Loss: {epoch_loss / (i + 1):.3e} - Acc: {epoch_true * 100. / epoch_all:.2f}% ')\n",
        "\n",
        "        accs_test.append(float(epoch_true / epoch_all))\n",
        "        loss_test.append(float(epoch_loss / (i + 1)))\n",
        "    return accs_test,loss_test\n"
      ],
      "metadata": {
        "id": "ZhtmT-QBZlVW"
      },
      "execution_count": null,
      "outputs": []
    },
    {
      "cell_type": "code",
      "source": [
        "\n",
        "\n",
        "class AlexNet1(nn.Module):\n",
        "    def __init__(self, num_classes: int = 15, dropout: float = 0.5) -> None:\n",
        "        super().__init__()\n",
        "        self.features = nn.Sequential(\n",
        "            nn.Conv2d(3, 64, kernel_size=11, stride=4, padding=2),\n",
        "            nn.ReLU(inplace=True),\n",
        "            nn.MaxPool2d(kernel_size=4, stride=4),\n",
        "        )\n",
        "        self.classifier = nn.Sequential(\n",
        "            nn.Dropout(p=dropout),\n",
        "            nn.Linear(12544, 4096),\n",
        "            nn.ReLU(inplace=True),\n",
        "            nn.Linear(4096, num_classes),\n",
        "        )\n",
        "\n",
        "    def forward(self, x: torch.Tensor) -> torch.Tensor:\n",
        "        x = self.features(x)\n",
        "        x = torch.flatten(x, 1)\n",
        "        x = self.classifier(x)\n",
        "        return x\n",
        "\n",
        "net = AlexNet1().to(device)\n",
        "net\n",
        "\n",
        "criterion = nn.CrossEntropyLoss().to(device)\n",
        "optimizer = torch.optim.Adam(net.parameters(), lr=1e-4)\n",
        "\n",
        "\n",
        "epochs = 50\n",
        "from time import time\n",
        "accs_train = []\n",
        "loss_train = []\n",
        "accs_test = []\n",
        "loss_test = []\n",
        "for e in range(epochs):\n",
        "    start_time = time()\n",
        "    accs_train,loss_train = train_epoch(net, criterion, optimizer, trainloader,accs_train,loss_train)\n",
        "    accs_test,loss_test = eval_epoch(net, criterion, valloader,accs_test,loss_test)\n",
        "\n",
        "    end_time = time()\n",
        "\n",
        "    print(f'Epoch {e+1:3} finished in {end_time - start_time:.2f}s')\n",
        "\n",
        "plt.plot(np.array(loss_test), 'r')\n",
        "plt.plot(np.array(loss_train), 'b')\n",
        "plt.title('Model loss')\n",
        "plt.ylabel('Loss')\n",
        "plt.xlabel('Epoch')\n",
        "plt.legend(['Test', 'Train'])\n",
        "plt.savefig('loss1.jpg')\n",
        "plt.show()\n",
        "\n",
        "plt.plot(np.array(accs_test), 'r')\n",
        "plt.plot(np.array(accs_train), 'b')\n",
        "plt.title('Model Accuracy')\n",
        "plt.ylabel('Accuracy')\n",
        "plt.xlabel('Epoch')\n",
        "plt.legend(['Test', 'Train'])\n",
        "plt.savefig('acc1.jpg')\n",
        "plt.show()\n",
        "\n",
        "torch.save(net.state_dict(), 'alexNet1.pth')\n",
        "print(f'Best Accuracy:{max(accs_test) * 100.:.2f}%')\n"
      ],
      "metadata": {
        "id": "H1CXmdVTRVkW",
        "colab": {
          "base_uri": "https://localhost:8080/",
          "height": 1000
        },
        "outputId": "7b76dafd-3d03-4d23-80d4-802f23b2c36e"
      },
      "execution_count": null,
      "outputs": [
        {
          "metadata": {
            "tags": null
          },
          "name": "stderr",
          "output_type": "stream",
          "text": [
            "Loss: 2.687e+00 - Acc: 15.44%: 100%|██████████| 12/12 [00:23<00:00,  2.00s/it]\n",
            "Loss: 2.475e+00 - Acc: 15.20% : 100%|██████████| 2/2 [00:08<00:00,  4.02s/it]\n"
          ]
        },
        {
          "metadata": {
            "tags": null
          },
          "name": "stdout",
          "output_type": "stream",
          "text": [
            "Epoch   1 finished in 32.43s\n"
          ]
        },
        {
          "metadata": {
            "tags": null
          },
          "name": "stderr",
          "output_type": "stream",
          "text": [
            "Loss: 2.333e+00 - Acc: 27.04%: 100%|██████████| 12/12 [00:16<00:00,  1.40s/it]\n",
            "Loss: 2.141e+00 - Acc: 30.80% : 100%|██████████| 2/2 [00:08<00:00,  4.09s/it]\n"
          ]
        },
        {
          "metadata": {
            "tags": null
          },
          "name": "stdout",
          "output_type": "stream",
          "text": [
            "Epoch   2 finished in 25.35s\n"
          ]
        },
        {
          "metadata": {
            "tags": null
          },
          "name": "stderr",
          "output_type": "stream",
          "text": [
            "Loss: 2.103e+00 - Acc: 35.21%: 100%|██████████| 12/12 [00:15<00:00,  1.28s/it]\n",
            "Loss: 2.010e+00 - Acc: 38.13% : 100%|██████████| 2/2 [00:08<00:00,  4.10s/it]\n"
          ]
        },
        {
          "metadata": {
            "tags": null
          },
          "name": "stdout",
          "output_type": "stream",
          "text": [
            "Epoch   3 finished in 23.99s\n"
          ]
        },
        {
          "metadata": {
            "tags": null
          },
          "name": "stderr",
          "output_type": "stream",
          "text": [
            "Loss: 1.965e+00 - Acc: 39.50%: 100%|██████████| 12/12 [00:15<00:00,  1.29s/it]\n",
            "Loss: 1.887e+00 - Acc: 42.40% : 100%|██████████| 2/2 [00:08<00:00,  4.05s/it]\n"
          ]
        },
        {
          "metadata": {
            "tags": null
          },
          "name": "stdout",
          "output_type": "stream",
          "text": [
            "Epoch   4 finished in 24.00s\n"
          ]
        },
        {
          "metadata": {
            "tags": null
          },
          "name": "stderr",
          "output_type": "stream",
          "text": [
            "Loss: 1.805e+00 - Acc: 44.92%: 100%|██████████| 12/12 [00:17<00:00,  1.49s/it]\n",
            "Loss: 1.719e+00 - Acc: 46.13% : 100%|██████████| 2/2 [00:08<00:00,  4.05s/it]\n"
          ]
        },
        {
          "metadata": {
            "tags": null
          },
          "name": "stdout",
          "output_type": "stream",
          "text": [
            "Epoch   5 finished in 26.40s\n"
          ]
        },
        {
          "metadata": {
            "tags": null
          },
          "name": "stderr",
          "output_type": "stream",
          "text": [
            "Loss: 1.700e+00 - Acc: 48.31%: 100%|██████████| 12/12 [00:15<00:00,  1.31s/it]\n",
            "Loss: 1.693e+00 - Acc: 47.27% : 100%|██████████| 2/2 [00:08<00:00,  4.11s/it]\n"
          ]
        },
        {
          "metadata": {
            "tags": null
          },
          "name": "stdout",
          "output_type": "stream",
          "text": [
            "Epoch   6 finished in 24.26s\n"
          ]
        },
        {
          "metadata": {
            "tags": null
          },
          "name": "stderr",
          "output_type": "stream",
          "text": [
            "Loss: 1.591e+00 - Acc: 52.40%: 100%|██████████| 12/12 [00:15<00:00,  1.29s/it]\n",
            "Loss: 1.778e+00 - Acc: 46.40% : 100%|██████████| 2/2 [00:08<00:00,  4.11s/it]\n"
          ]
        },
        {
          "metadata": {
            "tags": null
          },
          "name": "stdout",
          "output_type": "stream",
          "text": [
            "Epoch   7 finished in 24.04s\n"
          ]
        },
        {
          "metadata": {
            "tags": null
          },
          "name": "stderr",
          "output_type": "stream",
          "text": [
            "Loss: 1.499e+00 - Acc: 55.98%: 100%|██████████| 12/12 [00:16<00:00,  1.38s/it]\n",
            "Loss: 1.638e+00 - Acc: 52.00% : 100%|██████████| 2/2 [00:08<00:00,  4.15s/it]\n"
          ]
        },
        {
          "metadata": {
            "tags": null
          },
          "name": "stdout",
          "output_type": "stream",
          "text": [
            "Epoch   8 finished in 25.19s\n"
          ]
        },
        {
          "metadata": {
            "tags": null
          },
          "name": "stderr",
          "output_type": "stream",
          "text": [
            "Loss: 1.398e+00 - Acc: 57.72%: 100%|██████████| 12/12 [00:15<00:00,  1.31s/it]\n",
            "Loss: 1.623e+00 - Acc: 51.73% : 100%|██████████| 2/2 [00:08<00:00,  4.08s/it]\n"
          ]
        },
        {
          "metadata": {
            "tags": null
          },
          "name": "stdout",
          "output_type": "stream",
          "text": [
            "Epoch   9 finished in 24.29s\n"
          ]
        },
        {
          "metadata": {
            "tags": null
          },
          "name": "stderr",
          "output_type": "stream",
          "text": [
            "Loss: 1.301e+00 - Acc: 60.77%: 100%|██████████| 12/12 [00:15<00:00,  1.30s/it]\n",
            "Loss: 1.634e+00 - Acc: 51.80% : 100%|██████████| 2/2 [00:08<00:00,  4.28s/it]"
          ]
        },
        {
          "metadata": {
            "tags": null
          },
          "name": "stdout",
          "output_type": "stream",
          "text": [
            "Epoch  10 finished in 24.62s\n"
          ]
        },
        {
          "metadata": {
            "tags": null
          },
          "name": "stderr",
          "output_type": "stream",
          "text": [
            "\n",
            "Loss: 1.288e+00 - Acc: 60.84%: 100%|██████████| 12/12 [00:16<00:00,  1.36s/it]\n",
            "Loss: 1.430e+00 - Acc: 53.53% : 100%|██████████| 2/2 [00:08<00:00,  4.11s/it]\n"
          ]
        },
        {
          "metadata": {
            "tags": null
          },
          "name": "stdout",
          "output_type": "stream",
          "text": [
            "Epoch  11 finished in 24.93s\n"
          ]
        },
        {
          "metadata": {
            "tags": null
          },
          "name": "stderr",
          "output_type": "stream",
          "text": [
            "Loss: 1.208e+00 - Acc: 64.15%: 100%|██████████| 12/12 [00:15<00:00,  1.30s/it]\n",
            "Loss: 1.463e+00 - Acc: 55.87% : 100%|██████████| 2/2 [00:08<00:00,  4.07s/it]\n"
          ]
        },
        {
          "metadata": {
            "tags": null
          },
          "name": "stdout",
          "output_type": "stream",
          "text": [
            "Epoch  12 finished in 24.08s\n"
          ]
        },
        {
          "metadata": {
            "tags": null
          },
          "name": "stderr",
          "output_type": "stream",
          "text": [
            "Loss: 1.108e+00 - Acc: 67.81%: 100%|██████████| 12/12 [00:15<00:00,  1.29s/it]\n",
            "Loss: 1.549e+00 - Acc: 56.40% : 100%|██████████| 2/2 [00:09<00:00,  4.55s/it]\n"
          ]
        },
        {
          "metadata": {
            "tags": null
          },
          "name": "stdout",
          "output_type": "stream",
          "text": [
            "Epoch  13 finished in 24.96s\n"
          ]
        },
        {
          "metadata": {
            "tags": null
          },
          "name": "stderr",
          "output_type": "stream",
          "text": [
            "Loss: 1.061e+00 - Acc: 69.48%: 100%|██████████| 12/12 [00:15<00:00,  1.29s/it]\n",
            "Loss: 1.411e+00 - Acc: 57.67% : 100%|██████████| 2/2 [00:08<00:00,  4.09s/it]\n"
          ]
        },
        {
          "metadata": {
            "tags": null
          },
          "name": "stdout",
          "output_type": "stream",
          "text": [
            "Epoch  14 finished in 24.05s\n"
          ]
        },
        {
          "metadata": {
            "tags": null
          },
          "name": "stderr",
          "output_type": "stream",
          "text": [
            "Loss: 1.018e+00 - Acc: 70.18%: 100%|██████████| 12/12 [00:15<00:00,  1.31s/it]\n",
            "Loss: 1.381e+00 - Acc: 58.47% : 100%|██████████| 2/2 [00:08<00:00,  4.07s/it]\n"
          ]
        },
        {
          "metadata": {
            "tags": null
          },
          "name": "stdout",
          "output_type": "stream",
          "text": [
            "Epoch  15 finished in 24.26s\n"
          ]
        },
        {
          "metadata": {
            "tags": null
          },
          "name": "stderr",
          "output_type": "stream",
          "text": [
            "Loss: 1.008e+00 - Acc: 71.02%: 100%|██████████| 12/12 [00:15<00:00,  1.30s/it]\n",
            "Loss: 1.389e+00 - Acc: 59.00% : 100%|██████████| 2/2 [00:09<00:00,  4.75s/it]\n"
          ]
        },
        {
          "metadata": {
            "tags": null
          },
          "name": "stdout",
          "output_type": "stream",
          "text": [
            "Epoch  16 finished in 25.43s\n"
          ]
        },
        {
          "metadata": {
            "tags": null
          },
          "name": "stderr",
          "output_type": "stream",
          "text": [
            "Loss: 9.623e-01 - Acc: 71.76%: 100%|██████████| 12/12 [00:15<00:00,  1.30s/it]\n",
            "Loss: 1.427e+00 - Acc: 58.47% : 100%|██████████| 2/2 [00:08<00:00,  4.09s/it]\n"
          ]
        },
        {
          "metadata": {
            "tags": null
          },
          "name": "stdout",
          "output_type": "stream",
          "text": [
            "Epoch  17 finished in 24.15s\n"
          ]
        },
        {
          "metadata": {
            "tags": null
          },
          "name": "stderr",
          "output_type": "stream",
          "text": [
            "Loss: 9.422e-01 - Acc: 72.33%: 100%|██████████| 12/12 [00:15<00:00,  1.32s/it]\n",
            "Loss: 1.474e+00 - Acc: 59.80% : 100%|██████████| 2/2 [00:08<00:00,  4.05s/it]\n"
          ]
        },
        {
          "metadata": {
            "tags": null
          },
          "name": "stdout",
          "output_type": "stream",
          "text": [
            "Epoch  18 finished in 24.35s\n"
          ]
        },
        {
          "metadata": {
            "tags": null
          },
          "name": "stderr",
          "output_type": "stream",
          "text": [
            "Loss: 8.817e-01 - Acc: 74.20%: 100%|██████████| 12/12 [00:16<00:00,  1.35s/it]\n",
            "Loss: 1.522e+00 - Acc: 58.53% : 100%|██████████| 2/2 [00:08<00:00,  4.19s/it]\n"
          ]
        },
        {
          "metadata": {
            "tags": null
          },
          "name": "stdout",
          "output_type": "stream",
          "text": [
            "Epoch  19 finished in 24.97s\n"
          ]
        },
        {
          "metadata": {
            "tags": null
          },
          "name": "stderr",
          "output_type": "stream",
          "text": [
            "Loss: 8.718e-01 - Acc: 73.77%: 100%|██████████| 12/12 [00:15<00:00,  1.28s/it]\n",
            "Loss: 1.424e+00 - Acc: 58.87% : 100%|██████████| 2/2 [00:08<00:00,  4.04s/it]\n"
          ]
        },
        {
          "metadata": {
            "tags": null
          },
          "name": "stdout",
          "output_type": "stream",
          "text": [
            "Epoch  20 finished in 23.77s\n"
          ]
        },
        {
          "metadata": {
            "tags": null
          },
          "name": "stderr",
          "output_type": "stream",
          "text": [
            "Loss: 8.408e-01 - Acc: 75.75%: 100%|██████████| 12/12 [00:15<00:00,  1.30s/it]\n",
            "Loss: 1.642e+00 - Acc: 59.53% : 100%|██████████| 2/2 [00:08<00:00,  4.16s/it]\n"
          ]
        },
        {
          "metadata": {
            "tags": null
          },
          "name": "stdout",
          "output_type": "stream",
          "text": [
            "Epoch  21 finished in 24.28s\n"
          ]
        },
        {
          "metadata": {
            "tags": null
          },
          "name": "stderr",
          "output_type": "stream",
          "text": [
            "Loss: 8.073e-01 - Acc: 76.38%: 100%|██████████| 12/12 [00:16<00:00,  1.38s/it]\n",
            "Loss: 1.509e+00 - Acc: 59.27% : 100%|██████████| 2/2 [00:08<00:00,  4.01s/it]\n"
          ]
        },
        {
          "metadata": {
            "tags": null
          },
          "name": "stdout",
          "output_type": "stream",
          "text": [
            "Epoch  22 finished in 25.00s\n"
          ]
        },
        {
          "metadata": {
            "tags": null
          },
          "name": "stderr",
          "output_type": "stream",
          "text": [
            "Loss: 7.570e-01 - Acc: 77.82%: 100%|██████████| 12/12 [00:15<00:00,  1.29s/it]\n",
            "Loss: 1.446e+00 - Acc: 60.73% : 100%|██████████| 2/2 [00:08<00:00,  4.05s/it]\n"
          ]
        },
        {
          "metadata": {
            "tags": null
          },
          "name": "stdout",
          "output_type": "stream",
          "text": [
            "Epoch  23 finished in 23.93s\n"
          ]
        },
        {
          "output_type": "stream",
          "name": "stderr",
          "text": [
            "Loss: 7.378e-01 - Acc: 78.09%: 100%|██████████| 12/12 [00:15<00:00,  1.28s/it]\n",
            "Loss: 1.413e+00 - Acc: 61.20% : 100%|██████████| 2/2 [00:08<00:00,  4.09s/it]\n"
          ]
        },
        {
          "output_type": "stream",
          "name": "stdout",
          "text": [
            "Epoch  24 finished in 23.95s\n"
          ]
        },
        {
          "output_type": "stream",
          "name": "stderr",
          "text": [
            "Loss: 7.283e-01 - Acc: 78.53%: 100%|██████████| 12/12 [00:16<00:00,  1.36s/it]\n",
            "Loss: 1.506e+00 - Acc: 59.07% : 100%|██████████| 2/2 [00:08<00:00,  4.04s/it]\n"
          ]
        },
        {
          "output_type": "stream",
          "name": "stdout",
          "text": [
            "Epoch  25 finished in 24.74s\n"
          ]
        },
        {
          "output_type": "stream",
          "name": "stderr",
          "text": [
            "Loss: 7.034e-01 - Acc: 79.53%: 100%|██████████| 12/12 [00:15<00:00,  1.29s/it]\n",
            "Loss: 1.478e+00 - Acc: 59.93% : 100%|██████████| 2/2 [00:08<00:00,  4.04s/it]\n"
          ]
        },
        {
          "output_type": "stream",
          "name": "stdout",
          "text": [
            "Epoch  26 finished in 23.96s\n"
          ]
        },
        {
          "output_type": "stream",
          "name": "stderr",
          "text": [
            "Loss: 6.745e-01 - Acc: 80.07%: 100%|██████████| 12/12 [00:15<00:00,  1.29s/it]\n",
            "Loss: 1.570e+00 - Acc: 59.60% : 100%|██████████| 2/2 [00:07<00:00,  4.00s/it]\n"
          ]
        },
        {
          "output_type": "stream",
          "name": "stdout",
          "text": [
            "Epoch  27 finished in 23.89s\n"
          ]
        },
        {
          "output_type": "stream",
          "name": "stderr",
          "text": [
            "Loss: 6.422e-01 - Acc: 82.21%: 100%|██████████| 12/12 [00:16<00:00,  1.38s/it]\n",
            "Loss: 1.487e+00 - Acc: 61.07% : 100%|██████████| 2/2 [00:08<00:00,  4.01s/it]\n"
          ]
        },
        {
          "output_type": "stream",
          "name": "stdout",
          "text": [
            "Epoch  28 finished in 24.97s\n"
          ]
        },
        {
          "output_type": "stream",
          "name": "stderr",
          "text": [
            "Loss: 6.140e-01 - Acc: 82.91%: 100%|██████████| 12/12 [00:15<00:00,  1.27s/it]\n",
            "Loss: 1.575e+00 - Acc: 61.20% : 100%|██████████| 2/2 [00:08<00:00,  4.08s/it]\n"
          ]
        },
        {
          "output_type": "stream",
          "name": "stdout",
          "text": [
            "Epoch  29 finished in 23.79s\n"
          ]
        },
        {
          "output_type": "stream",
          "name": "stderr",
          "text": [
            "Loss: 5.825e-01 - Acc: 83.05%: 100%|██████████| 12/12 [00:15<00:00,  1.27s/it]\n",
            "Loss: 1.490e+00 - Acc: 61.47% : 100%|██████████| 2/2 [00:08<00:00,  4.05s/it]\n"
          ]
        },
        {
          "output_type": "stream",
          "name": "stdout",
          "text": [
            "Epoch  30 finished in 23.72s\n"
          ]
        },
        {
          "output_type": "stream",
          "name": "stderr",
          "text": [
            "Loss: 5.506e-01 - Acc: 85.56%: 100%|██████████| 12/12 [00:16<00:00,  1.36s/it]\n",
            "Loss: 1.691e+00 - Acc: 60.33% : 100%|██████████| 2/2 [00:08<00:00,  4.04s/it]\n"
          ]
        },
        {
          "output_type": "stream",
          "name": "stdout",
          "text": [
            "Epoch  31 finished in 24.79s\n"
          ]
        },
        {
          "output_type": "stream",
          "name": "stderr",
          "text": [
            "Loss: 5.731e-01 - Acc: 83.58%: 100%|██████████| 12/12 [00:15<00:00,  1.28s/it]\n",
            "Loss: 1.550e+00 - Acc: 62.27% : 100%|██████████| 2/2 [00:08<00:00,  4.06s/it]\n"
          ]
        },
        {
          "output_type": "stream",
          "name": "stdout",
          "text": [
            "Epoch  32 finished in 23.84s\n"
          ]
        },
        {
          "output_type": "stream",
          "name": "stderr",
          "text": [
            "Loss: 5.555e-01 - Acc: 84.92%: 100%|██████████| 12/12 [00:15<00:00,  1.29s/it]\n",
            "Loss: 1.740e+00 - Acc: 60.47% : 100%|██████████| 2/2 [00:08<00:00,  4.02s/it]\n"
          ]
        },
        {
          "output_type": "stream",
          "name": "stdout",
          "text": [
            "Epoch  33 finished in 23.88s\n"
          ]
        },
        {
          "output_type": "stream",
          "name": "stderr",
          "text": [
            "Loss: 5.599e-01 - Acc: 83.72%: 100%|██████████| 12/12 [00:16<00:00,  1.39s/it]\n",
            "Loss: 1.722e+00 - Acc: 60.33% : 100%|██████████| 2/2 [00:08<00:00,  4.08s/it]\n"
          ]
        },
        {
          "output_type": "stream",
          "name": "stdout",
          "text": [
            "Epoch  34 finished in 25.19s\n"
          ]
        },
        {
          "output_type": "stream",
          "name": "stderr",
          "text": [
            "Loss: 5.150e-01 - Acc: 86.97%: 100%|██████████| 12/12 [00:15<00:00,  1.25s/it]\n",
            "Loss: 1.538e+00 - Acc: 61.67% : 100%|██████████| 2/2 [00:08<00:00,  4.03s/it]\n"
          ]
        },
        {
          "output_type": "stream",
          "name": "stdout",
          "text": [
            "Epoch  35 finished in 23.50s\n"
          ]
        },
        {
          "output_type": "stream",
          "name": "stderr",
          "text": [
            "Loss: 5.026e-01 - Acc: 86.67%: 100%|██████████| 12/12 [00:15<00:00,  1.28s/it]\n",
            "Loss: 1.675e+00 - Acc: 62.00% : 100%|██████████| 2/2 [00:08<00:00,  4.29s/it]\n"
          ]
        },
        {
          "output_type": "stream",
          "name": "stdout",
          "text": [
            "Epoch  36 finished in 24.43s\n"
          ]
        },
        {
          "output_type": "stream",
          "name": "stderr",
          "text": [
            "Loss: 4.889e-01 - Acc: 86.63%: 100%|██████████| 12/12 [00:15<00:00,  1.30s/it]\n",
            "Loss: 1.855e+00 - Acc: 60.60% : 100%|██████████| 2/2 [00:07<00:00,  3.99s/it]\n"
          ]
        },
        {
          "output_type": "stream",
          "name": "stdout",
          "text": [
            "Epoch  37 finished in 23.96s\n"
          ]
        },
        {
          "output_type": "stream",
          "name": "stderr",
          "text": [
            "Loss: 4.839e-01 - Acc: 86.93%: 100%|██████████| 12/12 [00:15<00:00,  1.29s/it]\n",
            "Loss: 1.867e+00 - Acc: 59.20% : 100%|██████████| 2/2 [00:07<00:00,  3.99s/it]\n"
          ]
        },
        {
          "output_type": "stream",
          "name": "stdout",
          "text": [
            "Epoch  38 finished in 23.82s\n"
          ]
        },
        {
          "output_type": "stream",
          "name": "stderr",
          "text": [
            "Loss: 4.865e-01 - Acc: 85.66%: 100%|██████████| 12/12 [00:15<00:00,  1.26s/it]\n",
            "Loss: 1.659e+00 - Acc: 60.27% : 100%|██████████| 2/2 [00:08<00:00,  4.39s/it]\n"
          ]
        },
        {
          "output_type": "stream",
          "name": "stdout",
          "text": [
            "Epoch  39 finished in 24.33s\n"
          ]
        },
        {
          "output_type": "stream",
          "name": "stderr",
          "text": [
            "Loss: 4.811e-01 - Acc: 87.04%: 100%|██████████| 12/12 [00:15<00:00,  1.27s/it]\n",
            "Loss: 1.718e+00 - Acc: 61.33% : 100%|██████████| 2/2 [00:08<00:00,  4.06s/it]\n"
          ]
        },
        {
          "output_type": "stream",
          "name": "stdout",
          "text": [
            "Epoch  40 finished in 23.78s\n"
          ]
        },
        {
          "output_type": "stream",
          "name": "stderr",
          "text": [
            "Loss: 4.552e-01 - Acc: 87.34%: 100%|██████████| 12/12 [00:15<00:00,  1.27s/it]\n",
            "Loss: 1.662e+00 - Acc: 62.13% : 100%|██████████| 2/2 [00:08<00:00,  4.08s/it]\n"
          ]
        },
        {
          "output_type": "stream",
          "name": "stdout",
          "text": [
            "Epoch  41 finished in 23.72s\n"
          ]
        },
        {
          "output_type": "stream",
          "name": "stderr",
          "text": [
            "Loss: 4.500e-01 - Acc: 87.67%: 100%|██████████| 12/12 [00:15<00:00,  1.29s/it]\n",
            "Loss: 1.667e+00 - Acc: 62.33% : 100%|██████████| 2/2 [00:09<00:00,  4.57s/it]\n"
          ]
        },
        {
          "output_type": "stream",
          "name": "stdout",
          "text": [
            "Epoch  42 finished in 24.99s\n"
          ]
        },
        {
          "output_type": "stream",
          "name": "stderr",
          "text": [
            "Loss: 4.231e-01 - Acc: 88.51%: 100%|██████████| 12/12 [00:15<00:00,  1.29s/it]\n",
            "Loss: 1.827e+00 - Acc: 61.87% : 100%|██████████| 2/2 [00:08<00:00,  4.03s/it]\n"
          ]
        },
        {
          "output_type": "stream",
          "name": "stdout",
          "text": [
            "Epoch  43 finished in 23.90s\n"
          ]
        },
        {
          "output_type": "stream",
          "name": "stderr",
          "text": [
            "Loss: 3.988e-01 - Acc: 89.82%: 100%|██████████| 12/12 [00:15<00:00,  1.28s/it]\n",
            "Loss: 1.721e+00 - Acc: 61.27% : 100%|██████████| 2/2 [00:08<00:00,  4.01s/it]\n"
          ]
        },
        {
          "output_type": "stream",
          "name": "stdout",
          "text": [
            "Epoch  44 finished in 23.71s\n"
          ]
        },
        {
          "output_type": "stream",
          "name": "stderr",
          "text": [
            "Loss: 3.670e-01 - Acc: 90.95%: 100%|██████████| 12/12 [00:15<00:00,  1.28s/it]\n",
            "Loss: 1.757e+00 - Acc: 62.00% : 100%|██████████| 2/2 [00:09<00:00,  4.55s/it]\n"
          ]
        },
        {
          "output_type": "stream",
          "name": "stdout",
          "text": [
            "Epoch  45 finished in 24.89s\n"
          ]
        },
        {
          "output_type": "stream",
          "name": "stderr",
          "text": [
            "Loss: 4.055e-01 - Acc: 89.48%: 100%|██████████| 12/12 [00:15<00:00,  1.30s/it]\n",
            "Loss: 1.771e+00 - Acc: 62.40% : 100%|██████████| 2/2 [00:08<00:00,  4.05s/it]\n"
          ]
        },
        {
          "output_type": "stream",
          "name": "stdout",
          "text": [
            "Epoch  46 finished in 24.08s\n"
          ]
        },
        {
          "output_type": "stream",
          "name": "stderr",
          "text": [
            "Loss: 3.882e-01 - Acc: 89.08%: 100%|██████████| 12/12 [00:15<00:00,  1.30s/it]\n",
            "Loss: 1.764e+00 - Acc: 61.80% : 100%|██████████| 2/2 [00:08<00:00,  4.07s/it]\n"
          ]
        },
        {
          "output_type": "stream",
          "name": "stdout",
          "text": [
            "Epoch  47 finished in 24.13s\n"
          ]
        },
        {
          "output_type": "stream",
          "name": "stderr",
          "text": [
            "Loss: 3.713e-01 - Acc: 89.51%: 100%|██████████| 12/12 [00:16<00:00,  1.36s/it]\n",
            "Loss: 1.796e+00 - Acc: 62.00% : 100%|██████████| 2/2 [00:08<00:00,  4.06s/it]\n"
          ]
        },
        {
          "output_type": "stream",
          "name": "stdout",
          "text": [
            "Epoch  48 finished in 24.83s\n"
          ]
        },
        {
          "output_type": "stream",
          "name": "stderr",
          "text": [
            "Loss: 3.803e-01 - Acc: 89.48%: 100%|██████████| 12/12 [00:15<00:00,  1.27s/it]\n",
            "Loss: 1.850e+00 - Acc: 63.40% : 100%|██████████| 2/2 [00:07<00:00,  3.98s/it]\n"
          ]
        },
        {
          "output_type": "stream",
          "name": "stdout",
          "text": [
            "Epoch  49 finished in 23.57s\n"
          ]
        },
        {
          "output_type": "stream",
          "name": "stderr",
          "text": [
            "Loss: 3.532e-01 - Acc: 90.45%: 100%|██████████| 12/12 [00:15<00:00,  1.26s/it]\n",
            "Loss: 1.904e+00 - Acc: 63.00% : 100%|██████████| 2/2 [00:08<00:00,  4.03s/it]\n"
          ]
        },
        {
          "output_type": "stream",
          "name": "stdout",
          "text": [
            "Epoch  50 finished in 23.53s\n"
          ]
        },
        {
          "output_type": "display_data",
          "data": {
            "text/plain": [
              "<Figure size 432x288 with 1 Axes>"
            ],
            "image/png": "[encoded data removed]"
          },
          "metadata": {
            "needs_background": "light"
          }
        },
        {
          "output_type": "display_data",
          "data": {
            "text/plain": [
              "<Figure size 432x288 with 1 Axes>"
            ],
            "image/png": "[encoded data removed]"
          },
          "metadata": {
            "needs_background": "light"
          }
        },
        {
          "output_type": "stream",
          "name": "stdout",
          "text": [
            "Best Accuracy:63.40%\n"
          ]
        }
      ]
    },
    {
      "cell_type": "code",
      "source": [
        "\n",
        "class AlexNet2(nn.Module):\n",
        "    def __init__(self, num_classes: int = 15, dropout: float = 0.5) -> None:\n",
        "        super().__init__()\n",
        "        self.features = nn.Sequential(\n",
        "            nn.Conv2d(3, 64, kernel_size=11, stride=4, padding=2),\n",
        "            nn.ReLU(inplace=True),\n",
        "            nn.MaxPool2d(kernel_size=3, stride=2),\n",
        "            nn.Conv2d(64, 192, kernel_size=5, padding=2),\n",
        "            nn.ReLU(inplace=True),\n",
        "            nn.MaxPool2d(kernel_size=3, stride=2),\n",
        "            nn.Conv2d(192, 256, kernel_size=3, padding=1),\n",
        "            nn.ReLU(inplace=True),\n",
        "            nn.MaxPool2d(kernel_size=2, stride=2),\n",
        "        )\n",
        "        self.classifier = nn.Sequential(\n",
        "            nn.Dropout(p=dropout),\n",
        "            nn.Linear(256 * 6 * 6, 4096),\n",
        "            nn.ReLU(inplace=True),\n",
        "            nn.Dropout(p=dropout),\n",
        "            nn.Linear(4096, 4096),\n",
        "            nn.ReLU(inplace=True),\n",
        "            nn.Linear(4096, num_classes),\n",
        "        )\n",
        "\n",
        "    def forward(self, x: torch.Tensor) -> torch.Tensor:\n",
        "        x = self.features(x)\n",
        "        x = torch.flatten(x, 1)\n",
        "        x = self.classifier(x)\n",
        "        return x\n",
        "\n",
        "net = AlexNet2().to(device)\n",
        "net\n",
        "\n",
        "criterion = nn.CrossEntropyLoss().to(device)\n",
        "optimizer = torch.optim.Adam(net.parameters(), lr=1e-4)\n",
        "\n",
        "epochs = 50\n",
        "from time import time\n",
        "accs_train = []\n",
        "loss_train = []\n",
        "accs_test = []\n",
        "loss_test = []\n",
        "for e in range(epochs):\n",
        "    start_time = time()\n",
        "    accs_train,loss_train = train_epoch(net, criterion, optimizer, trainloader,accs_train,loss_train)\n",
        "    accs_test,loss_test = eval_epoch(net, criterion, valloader,accs_test,loss_test)\n",
        "    end_time = time()\n",
        "\n",
        "    print(f'Epoch {e+1:3} finished in {end_time - start_time:.2f}s')\n",
        "\n",
        "plt.plot(np.array(loss_test), 'r')\n",
        "plt.plot(np.array(loss_train), 'b')\n",
        "plt.title('Model loss')\n",
        "plt.ylabel('Loss')\n",
        "plt.xlabel('Epoch')\n",
        "plt.legend(['Test', 'Train'])\n",
        "plt.savefig('loss2.jpg')\n",
        "plt.show()\n",
        "\n",
        "plt.plot(np.array(accs_test), 'r')\n",
        "plt.plot(np.array(accs_train), 'b')\n",
        "plt.title('Model Accuracy')\n",
        "plt.ylabel('Accuracy')\n",
        "plt.xlabel('Epoch')\n",
        "plt.legend(['Test', 'Train'])\n",
        "plt.savefig('acc2.jpg')\n",
        "plt.show()\n",
        "\n",
        "torch.save(net.state_dict(), 'alexNet2.pth')\n",
        "print(f'Best Accuracy:{max(accs_test) * 100.:.2f}%')"
      ],
      "metadata": {
        "id": "KtHxAh7XLMda",
        "colab": {
          "base_uri": "https://localhost:8080/",
          "height": 1000
        },
        "outputId": "ec413a6c-65d2-466a-e5f7-65b6284eeeca"
      },
      "execution_count": null,
      "outputs": [
        {
          "output_type": "stream",
          "name": "stderr",
          "text": [
            "Loss: 2.671e+00 - Acc: 9.55%: 100%|██████████| 12/12 [00:20<00:00,  1.67s/it]\n",
            "Loss: 2.714e+00 - Acc: 9.67% : 100%|██████████| 2/2 [00:08<00:00,  4.26s/it]\n"
          ]
        },
        {
          "output_type": "stream",
          "name": "stdout",
          "text": [
            "Epoch   1 finished in 29.02s\n"
          ]
        },
        {
          "output_type": "stream",
          "name": "stderr",
          "text": [
            "Loss: 2.569e+00 - Acc: 15.58%: 100%|██████████| 12/12 [00:16<00:00,  1.41s/it]\n",
            "Loss: 2.510e+00 - Acc: 16.80% : 100%|██████████| 2/2 [00:09<00:00,  4.76s/it]\n"
          ]
        },
        {
          "output_type": "stream",
          "name": "stdout",
          "text": [
            "Epoch   2 finished in 26.88s\n"
          ]
        },
        {
          "output_type": "stream",
          "name": "stderr",
          "text": [
            "Loss: 2.336e+00 - Acc: 24.76%: 100%|██████████| 12/12 [00:15<00:00,  1.33s/it]\n",
            "Loss: 2.130e+00 - Acc: 30.67% : 100%|██████████| 2/2 [00:09<00:00,  4.62s/it]\n"
          ]
        },
        {
          "output_type": "stream",
          "name": "stdout",
          "text": [
            "Epoch   3 finished in 25.56s\n"
          ]
        },
        {
          "output_type": "stream",
          "name": "stderr",
          "text": [
            "Loss: 2.179e+00 - Acc: 29.51%: 100%|██████████| 12/12 [00:17<00:00,  1.47s/it]\n",
            "Loss: 2.093e+00 - Acc: 33.87% : 100%|██████████| 2/2 [00:08<00:00,  4.17s/it]\n"
          ]
        },
        {
          "output_type": "stream",
          "name": "stdout",
          "text": [
            "Epoch   4 finished in 26.35s\n"
          ]
        },
        {
          "output_type": "stream",
          "name": "stderr",
          "text": [
            "Loss: 2.025e+00 - Acc: 34.30%: 100%|██████████| 12/12 [00:15<00:00,  1.33s/it]\n",
            "Loss: 1.851e+00 - Acc: 38.53% : 100%|██████████| 2/2 [00:08<00:00,  4.21s/it]\n"
          ]
        },
        {
          "output_type": "stream",
          "name": "stdout",
          "text": [
            "Epoch   5 finished in 24.83s\n"
          ]
        },
        {
          "output_type": "stream",
          "name": "stderr",
          "text": [
            "Loss: 1.882e+00 - Acc: 38.96%: 100%|██████████| 12/12 [00:16<00:00,  1.34s/it]\n",
            "Loss: 1.684e+00 - Acc: 41.67% : 100%|██████████| 2/2 [00:08<00:00,  4.47s/it]\n"
          ]
        },
        {
          "output_type": "stream",
          "name": "stdout",
          "text": [
            "Epoch   6 finished in 25.52s\n"
          ]
        },
        {
          "output_type": "stream",
          "name": "stderr",
          "text": [
            "Loss: 1.791e+00 - Acc: 42.41%: 100%|██████████| 12/12 [00:15<00:00,  1.33s/it]\n",
            "Loss: 1.634e+00 - Acc: 46.47% : 100%|██████████| 2/2 [00:08<00:00,  4.19s/it]\n"
          ]
        },
        {
          "output_type": "stream",
          "name": "stdout",
          "text": [
            "Epoch   7 finished in 24.79s\n"
          ]
        },
        {
          "output_type": "stream",
          "name": "stderr",
          "text": [
            "Loss: 1.684e+00 - Acc: 44.72%: 100%|██████████| 12/12 [00:16<00:00,  1.34s/it]\n",
            "Loss: 1.557e+00 - Acc: 48.53% : 100%|██████████| 2/2 [00:08<00:00,  4.18s/it]\n"
          ]
        },
        {
          "output_type": "stream",
          "name": "stdout",
          "text": [
            "Epoch   8 finished in 24.81s\n"
          ]
        },
        {
          "output_type": "stream",
          "name": "stderr",
          "text": [
            "Loss: 1.607e+00 - Acc: 47.04%: 100%|██████████| 12/12 [00:17<00:00,  1.46s/it]\n",
            "Loss: 1.554e+00 - Acc: 50.13% : 100%|██████████| 2/2 [00:08<00:00,  4.24s/it]\n"
          ]
        },
        {
          "output_type": "stream",
          "name": "stdout",
          "text": [
            "Epoch   9 finished in 26.40s\n"
          ]
        },
        {
          "output_type": "stream",
          "name": "stderr",
          "text": [
            "Loss: 1.531e+00 - Acc: 50.62%: 100%|██████████| 12/12 [00:16<00:00,  1.39s/it]\n",
            "Loss: 1.443e+00 - Acc: 51.60% : 100%|██████████| 2/2 [00:08<00:00,  4.22s/it]\n"
          ]
        },
        {
          "output_type": "stream",
          "name": "stdout",
          "text": [
            "Epoch  10 finished in 25.50s\n"
          ]
        },
        {
          "output_type": "stream",
          "name": "stderr",
          "text": [
            "Loss: 1.471e+00 - Acc: 51.86%: 100%|██████████| 12/12 [00:15<00:00,  1.33s/it]\n",
            "Loss: 1.447e+00 - Acc: 53.87% : 100%|██████████| 2/2 [00:09<00:00,  4.60s/it]\n"
          ]
        },
        {
          "output_type": "stream",
          "name": "stdout",
          "text": [
            "Epoch  11 finished in 25.56s\n"
          ]
        },
        {
          "output_type": "stream",
          "name": "stderr",
          "text": [
            "Loss: 1.425e+00 - Acc: 52.76%: 100%|██████████| 12/12 [00:15<00:00,  1.32s/it]\n",
            "Loss: 1.359e+00 - Acc: 54.67% : 100%|██████████| 2/2 [00:08<00:00,  4.15s/it]\n"
          ]
        },
        {
          "output_type": "stream",
          "name": "stdout",
          "text": [
            "Epoch  12 finished in 24.57s\n"
          ]
        },
        {
          "output_type": "stream",
          "name": "stderr",
          "text": [
            "Loss: 1.383e+00 - Acc: 55.11%: 100%|██████████| 12/12 [00:15<00:00,  1.32s/it]\n",
            "Loss: 1.288e+00 - Acc: 58.13% : 100%|██████████| 2/2 [00:08<00:00,  4.13s/it]\n"
          ]
        },
        {
          "output_type": "stream",
          "name": "stdout",
          "text": [
            "Epoch  13 finished in 24.54s\n"
          ]
        },
        {
          "output_type": "stream",
          "name": "stderr",
          "text": [
            "Loss: 1.328e+00 - Acc: 56.38%: 100%|██████████| 12/12 [00:17<00:00,  1.46s/it]\n",
            "Loss: 1.323e+00 - Acc: 57.80% : 100%|██████████| 2/2 [00:08<00:00,  4.12s/it]\n"
          ]
        },
        {
          "output_type": "stream",
          "name": "stdout",
          "text": [
            "Epoch  14 finished in 26.11s\n"
          ]
        },
        {
          "output_type": "stream",
          "name": "stderr",
          "text": [
            "Loss: 1.251e+00 - Acc: 57.39%: 100%|██████████| 12/12 [00:16<00:00,  1.35s/it]\n",
            "Loss: 1.358e+00 - Acc: 60.20% : 100%|██████████| 2/2 [00:08<00:00,  4.09s/it]\n"
          ]
        },
        {
          "output_type": "stream",
          "name": "stdout",
          "text": [
            "Epoch  15 finished in 24.80s\n"
          ]
        },
        {
          "output_type": "stream",
          "name": "stderr",
          "text": [
            "Loss: 1.240e+00 - Acc: 59.03%: 100%|██████████| 12/12 [00:16<00:00,  1.34s/it]\n",
            "Loss: 1.414e+00 - Acc: 57.00% : 100%|██████████| 2/2 [00:09<00:00,  4.61s/it]\n"
          ]
        },
        {
          "output_type": "stream",
          "name": "stdout",
          "text": [
            "Epoch  16 finished in 25.74s\n"
          ]
        },
        {
          "output_type": "stream",
          "name": "stderr",
          "text": [
            "Loss: 1.236e+00 - Acc: 59.16%: 100%|██████████| 12/12 [00:16<00:00,  1.34s/it]\n",
            "Loss: 1.263e+00 - Acc: 58.13% : 100%|██████████| 2/2 [00:08<00:00,  4.35s/it]\n"
          ]
        },
        {
          "output_type": "stream",
          "name": "stdout",
          "text": [
            "Epoch  17 finished in 25.16s\n"
          ]
        },
        {
          "output_type": "stream",
          "name": "stderr",
          "text": [
            "Loss: 1.217e+00 - Acc: 59.56%: 100%|██████████| 12/12 [00:16<00:00,  1.34s/it]\n",
            "Loss: 1.144e+00 - Acc: 61.53% : 100%|██████████| 2/2 [00:08<00:00,  4.17s/it]\n"
          ]
        },
        {
          "output_type": "stream",
          "name": "stdout",
          "text": [
            "Epoch  18 finished in 24.83s\n"
          ]
        },
        {
          "output_type": "stream",
          "name": "stderr",
          "text": [
            "Loss: 1.112e+00 - Acc: 63.99%: 100%|██████████| 12/12 [00:17<00:00,  1.43s/it]\n",
            "Loss: 1.186e+00 - Acc: 63.07% : 100%|██████████| 2/2 [00:08<00:00,  4.16s/it]\n"
          ]
        },
        {
          "output_type": "stream",
          "name": "stdout",
          "text": [
            "Epoch  19 finished in 25.82s\n"
          ]
        },
        {
          "output_type": "stream",
          "name": "stderr",
          "text": [
            "Loss: 1.079e+00 - Acc: 63.48%: 100%|██████████| 12/12 [00:15<00:00,  1.31s/it]\n",
            "Loss: 1.166e+00 - Acc: 62.47% : 100%|██████████| 2/2 [00:08<00:00,  4.18s/it]\n"
          ]
        },
        {
          "output_type": "stream",
          "name": "stdout",
          "text": [
            "Epoch  20 finished in 24.44s\n"
          ]
        },
        {
          "output_type": "stream",
          "name": "stderr",
          "text": [
            "Loss: 1.042e+00 - Acc: 64.99%: 100%|██████████| 12/12 [00:16<00:00,  1.36s/it]\n",
            "Loss: 1.129e+00 - Acc: 63.33% : 100%|██████████| 2/2 [00:09<00:00,  4.61s/it]\n"
          ]
        },
        {
          "output_type": "stream",
          "name": "stdout",
          "text": [
            "Epoch  21 finished in 25.94s\n"
          ]
        },
        {
          "output_type": "stream",
          "name": "stderr",
          "text": [
            "Loss: 1.000e+00 - Acc: 66.40%: 100%|██████████| 12/12 [00:15<00:00,  1.33s/it]\n",
            "Loss: 1.093e+00 - Acc: 63.47% : 100%|██████████| 2/2 [00:08<00:00,  4.12s/it]\n"
          ]
        },
        {
          "output_type": "stream",
          "name": "stdout",
          "text": [
            "Epoch  22 finished in 24.59s\n"
          ]
        },
        {
          "output_type": "stream",
          "name": "stderr",
          "text": [
            "Loss: 9.461e-01 - Acc: 68.91%: 100%|██████████| 12/12 [00:15<00:00,  1.32s/it]\n",
            "Loss: 1.145e+00 - Acc: 65.53% : 100%|██████████| 2/2 [00:08<00:00,  4.21s/it]\n"
          ]
        },
        {
          "output_type": "stream",
          "name": "stdout",
          "text": [
            "Epoch  23 finished in 24.70s\n"
          ]
        },
        {
          "output_type": "stream",
          "name": "stderr",
          "text": [
            "Loss: 9.565e-01 - Acc: 69.21%: 100%|██████████| 12/12 [00:17<00:00,  1.43s/it]\n",
            "Loss: 1.163e+00 - Acc: 64.93% : 100%|██████████| 2/2 [00:08<00:00,  4.13s/it]\n"
          ]
        },
        {
          "output_type": "stream",
          "name": "stdout",
          "text": [
            "Epoch  24 finished in 25.86s\n"
          ]
        },
        {
          "output_type": "stream",
          "name": "stderr",
          "text": [
            "Loss: 9.534e-01 - Acc: 67.94%: 100%|██████████| 12/12 [00:15<00:00,  1.32s/it]\n",
            "Loss: 1.174e+00 - Acc: 65.67% : 100%|██████████| 2/2 [00:08<00:00,  4.12s/it]\n"
          ]
        },
        {
          "output_type": "stream",
          "name": "stdout",
          "text": [
            "Epoch  25 finished in 24.45s\n"
          ]
        },
        {
          "output_type": "stream",
          "name": "stderr",
          "text": [
            "Loss: 8.885e-01 - Acc: 70.15%: 100%|██████████| 12/12 [00:16<00:00,  1.34s/it]\n",
            "Loss: 1.094e+00 - Acc: 66.33% : 100%|██████████| 2/2 [00:08<00:00,  4.19s/it]\n"
          ]
        },
        {
          "output_type": "stream",
          "name": "stdout",
          "text": [
            "Epoch  26 finished in 24.94s\n"
          ]
        },
        {
          "output_type": "stream",
          "name": "stderr",
          "text": [
            "Loss: 8.561e-01 - Acc: 70.89%: 100%|██████████| 12/12 [00:16<00:00,  1.41s/it]\n",
            "Loss: 1.302e+00 - Acc: 64.80% : 100%|██████████| 2/2 [00:08<00:00,  4.16s/it]\n"
          ]
        },
        {
          "output_type": "stream",
          "name": "stdout",
          "text": [
            "Epoch  27 finished in 25.76s\n"
          ]
        },
        {
          "output_type": "stream",
          "name": "stderr",
          "text": [
            "Loss: 8.611e-01 - Acc: 70.42%: 100%|██████████| 12/12 [00:15<00:00,  1.33s/it]\n",
            "Loss: 1.185e+00 - Acc: 66.13% : 100%|██████████| 2/2 [00:08<00:00,  4.12s/it]\n"
          ]
        },
        {
          "output_type": "stream",
          "name": "stdout",
          "text": [
            "Epoch  28 finished in 24.61s\n"
          ]
        },
        {
          "output_type": "stream",
          "name": "stderr",
          "text": [
            "Loss: 8.228e-01 - Acc: 72.66%: 100%|██████████| 12/12 [00:16<00:00,  1.41s/it]\n",
            "Loss: 1.124e+00 - Acc: 66.20% : 100%|██████████| 2/2 [00:08<00:00,  4.16s/it]\n"
          ]
        },
        {
          "output_type": "stream",
          "name": "stdout",
          "text": [
            "Epoch  29 finished in 25.67s\n"
          ]
        },
        {
          "output_type": "stream",
          "name": "stderr",
          "text": [
            "Loss: 7.613e-01 - Acc: 74.24%: 100%|██████████| 12/12 [00:15<00:00,  1.33s/it]\n",
            "Loss: 1.155e+00 - Acc: 65.73% : 100%|██████████| 2/2 [00:08<00:00,  4.16s/it]\n"
          ]
        },
        {
          "output_type": "stream",
          "name": "stdout",
          "text": [
            "Epoch  30 finished in 24.66s\n"
          ]
        },
        {
          "output_type": "stream",
          "name": "stderr",
          "text": [
            "Loss: 7.695e-01 - Acc: 73.43%: 100%|██████████| 12/12 [00:15<00:00,  1.31s/it]\n",
            "Loss: 1.085e+00 - Acc: 67.13% : 100%|██████████| 2/2 [00:08<00:00,  4.10s/it]\n"
          ]
        },
        {
          "output_type": "stream",
          "name": "stdout",
          "text": [
            "Epoch  31 finished in 24.38s\n"
          ]
        },
        {
          "output_type": "stream",
          "name": "stderr",
          "text": [
            "Loss: 7.388e-01 - Acc: 75.81%: 100%|██████████| 12/12 [00:17<00:00,  1.42s/it]\n",
            "Loss: 1.084e+00 - Acc: 67.13% : 100%|██████████| 2/2 [00:08<00:00,  4.11s/it]\n"
          ]
        },
        {
          "output_type": "stream",
          "name": "stdout",
          "text": [
            "Epoch  32 finished in 25.71s\n"
          ]
        },
        {
          "output_type": "stream",
          "name": "stderr",
          "text": [
            "Loss: 6.805e-01 - Acc: 77.29%: 100%|██████████| 12/12 [00:15<00:00,  1.30s/it]\n",
            "Loss: 1.130e+00 - Acc: 68.40% : 100%|██████████| 2/2 [00:08<00:00,  4.16s/it]\n"
          ]
        },
        {
          "output_type": "stream",
          "name": "stdout",
          "text": [
            "Epoch  33 finished in 24.28s\n"
          ]
        },
        {
          "output_type": "stream",
          "name": "stderr",
          "text": [
            "Loss: 6.659e-01 - Acc: 77.69%: 100%|██████████| 12/12 [00:16<00:00,  1.38s/it]\n",
            "Loss: 1.160e+00 - Acc: 68.07% : 100%|██████████| 2/2 [00:08<00:00,  4.36s/it]\n"
          ]
        },
        {
          "output_type": "stream",
          "name": "stdout",
          "text": [
            "Epoch  34 finished in 25.80s\n"
          ]
        },
        {
          "output_type": "stream",
          "name": "stderr",
          "text": [
            "Loss: 6.326e-01 - Acc: 77.76%: 100%|██████████| 12/12 [00:15<00:00,  1.29s/it]\n",
            "Loss: 1.198e+00 - Acc: 66.80% : 100%|██████████| 2/2 [00:08<00:00,  4.16s/it]\n"
          ]
        },
        {
          "output_type": "stream",
          "name": "stdout",
          "text": [
            "Epoch  35 finished in 24.14s\n"
          ]
        },
        {
          "output_type": "stream",
          "name": "stderr",
          "text": [
            "Loss: 6.331e-01 - Acc: 78.59%: 100%|██████████| 12/12 [00:15<00:00,  1.30s/it]\n",
            "Loss: 1.236e+00 - Acc: 66.47% : 100%|██████████| 2/2 [00:08<00:00,  4.09s/it]\n"
          ]
        },
        {
          "output_type": "stream",
          "name": "stdout",
          "text": [
            "Epoch  36 finished in 24.22s\n"
          ]
        },
        {
          "output_type": "stream",
          "name": "stderr",
          "text": [
            "Loss: 6.189e-01 - Acc: 79.33%: 100%|██████████| 12/12 [00:17<00:00,  1.44s/it]\n",
            "Loss: 1.207e+00 - Acc: 65.93% : 100%|██████████| 2/2 [00:08<00:00,  4.10s/it]\n"
          ]
        },
        {
          "output_type": "stream",
          "name": "stdout",
          "text": [
            "Epoch  37 finished in 25.81s\n"
          ]
        },
        {
          "output_type": "stream",
          "name": "stderr",
          "text": [
            "Loss: 5.898e-01 - Acc: 78.89%: 100%|██████████| 12/12 [00:16<00:00,  1.34s/it]\n",
            "Loss: 1.143e+00 - Acc: 67.00% : 100%|██████████| 2/2 [00:08<00:00,  4.11s/it]\n"
          ]
        },
        {
          "output_type": "stream",
          "name": "stdout",
          "text": [
            "Epoch  38 finished in 24.67s\n"
          ]
        },
        {
          "output_type": "stream",
          "name": "stderr",
          "text": [
            "Loss: 5.523e-01 - Acc: 80.60%: 100%|██████████| 12/12 [00:15<00:00,  1.32s/it]\n",
            "Loss: 1.100e+00 - Acc: 66.73% : 100%|██████████| 2/2 [00:09<00:00,  4.78s/it]\n"
          ]
        },
        {
          "output_type": "stream",
          "name": "stdout",
          "text": [
            "Epoch  39 finished in 25.83s\n"
          ]
        },
        {
          "output_type": "stream",
          "name": "stderr",
          "text": [
            "Loss: 5.188e-01 - Acc: 82.71%: 100%|██████████| 12/12 [00:15<00:00,  1.30s/it]\n",
            "Loss: 1.217e+00 - Acc: 67.60% : 100%|██████████| 2/2 [00:08<00:00,  4.21s/it]\n"
          ]
        },
        {
          "output_type": "stream",
          "name": "stdout",
          "text": [
            "Epoch  40 finished in 24.47s\n"
          ]
        },
        {
          "output_type": "stream",
          "name": "stderr",
          "text": [
            "Loss: 5.349e-01 - Acc: 81.84%: 100%|██████████| 12/12 [00:16<00:00,  1.33s/it]\n",
            "Loss: 1.319e+00 - Acc: 65.60% : 100%|██████████| 2/2 [00:08<00:00,  4.13s/it]\n"
          ]
        },
        {
          "output_type": "stream",
          "name": "stdout",
          "text": [
            "Epoch  41 finished in 24.69s\n"
          ]
        },
        {
          "output_type": "stream",
          "name": "stderr",
          "text": [
            "Loss: 5.594e-01 - Acc: 80.20%: 100%|██████████| 12/12 [00:17<00:00,  1.42s/it]\n",
            "Loss: 1.231e+00 - Acc: 67.13% : 100%|██████████| 2/2 [00:08<00:00,  4.12s/it]\n"
          ]
        },
        {
          "output_type": "stream",
          "name": "stdout",
          "text": [
            "Epoch  42 finished in 25.71s\n"
          ]
        },
        {
          "output_type": "stream",
          "name": "stderr",
          "text": [
            "Loss: 5.044e-01 - Acc: 82.61%: 100%|██████████| 12/12 [00:15<00:00,  1.28s/it]\n",
            "Loss: 1.200e+00 - Acc: 68.53% : 100%|██████████| 2/2 [00:08<00:00,  4.12s/it]\n"
          ]
        },
        {
          "output_type": "stream",
          "name": "stdout",
          "text": [
            "Epoch  43 finished in 23.95s\n"
          ]
        },
        {
          "output_type": "stream",
          "name": "stderr",
          "text": [
            "Loss: 4.652e-01 - Acc: 84.49%: 100%|██████████| 12/12 [00:15<00:00,  1.31s/it]\n",
            "Loss: 1.299e+00 - Acc: 67.07% : 100%|██████████| 2/2 [00:09<00:00,  4.65s/it]\n"
          ]
        },
        {
          "output_type": "stream",
          "name": "stdout",
          "text": [
            "Epoch  44 finished in 25.44s\n"
          ]
        },
        {
          "output_type": "stream",
          "name": "stderr",
          "text": [
            "Loss: 4.465e-01 - Acc: 85.33%: 100%|██████████| 12/12 [00:15<00:00,  1.31s/it]\n",
            "Loss: 1.388e+00 - Acc: 67.40% : 100%|██████████| 2/2 [00:08<00:00,  4.12s/it]\n"
          ]
        },
        {
          "output_type": "stream",
          "name": "stdout",
          "text": [
            "Epoch  45 finished in 24.38s\n"
          ]
        },
        {
          "output_type": "stream",
          "name": "stderr",
          "text": [
            "Loss: 4.357e-01 - Acc: 85.66%: 100%|██████████| 12/12 [00:16<00:00,  1.38s/it]\n",
            "Loss: 1.298e+00 - Acc: 67.53% : 100%|██████████| 2/2 [00:08<00:00,  4.20s/it]\n"
          ]
        },
        {
          "output_type": "stream",
          "name": "stdout",
          "text": [
            "Epoch  46 finished in 25.38s\n"
          ]
        },
        {
          "output_type": "stream",
          "name": "stderr",
          "text": [
            "Loss: 4.340e-01 - Acc: 85.33%: 100%|██████████| 12/12 [00:17<00:00,  1.42s/it]\n",
            "Loss: 1.239e+00 - Acc: 67.53% : 100%|██████████| 2/2 [00:08<00:00,  4.12s/it]\n"
          ]
        },
        {
          "output_type": "stream",
          "name": "stdout",
          "text": [
            "Epoch  47 finished in 25.66s\n"
          ]
        },
        {
          "output_type": "stream",
          "name": "stderr",
          "text": [
            "Loss: 4.264e-01 - Acc: 85.83%: 100%|██████████| 12/12 [00:15<00:00,  1.33s/it]\n",
            "Loss: 1.291e+00 - Acc: 68.33% : 100%|██████████| 2/2 [00:08<00:00,  4.14s/it]\n"
          ]
        },
        {
          "output_type": "stream",
          "name": "stdout",
          "text": [
            "Epoch  48 finished in 24.61s\n"
          ]
        },
        {
          "output_type": "stream",
          "name": "stderr",
          "text": [
            "Loss: 4.086e-01 - Acc: 86.40%: 100%|██████████| 12/12 [00:15<00:00,  1.32s/it]\n",
            "Loss: 1.226e+00 - Acc: 69.27% : 100%|██████████| 2/2 [00:09<00:00,  4.53s/it]\n"
          ]
        },
        {
          "output_type": "stream",
          "name": "stdout",
          "text": [
            "Epoch  49 finished in 25.28s\n"
          ]
        },
        {
          "output_type": "stream",
          "name": "stderr",
          "text": [
            "Loss: 4.062e-01 - Acc: 85.83%: 100%|██████████| 12/12 [00:15<00:00,  1.32s/it]\n",
            "Loss: 1.339e+00 - Acc: 68.20% : 100%|██████████| 2/2 [00:08<00:00,  4.13s/it]\n"
          ]
        },
        {
          "output_type": "stream",
          "name": "stdout",
          "text": [
            "Epoch  50 finished in 24.50s\n"
          ]
        },
        {
          "output_type": "display_data",
          "data": {
            "text/plain": [
              "<Figure size 432x288 with 1 Axes>"
            ],
            "image/png": "[encoded data removed]"
          },
          "metadata": {
            "needs_background": "light"
          }
        },
        {
          "output_type": "display_data",
          "data": {
            "text/plain": [
              "<Figure size 432x288 with 1 Axes>"
            ],
            "image/png": "[encoded data removed]"
          },
          "metadata": {
            "needs_background": "light"
          }
        },
        {
          "output_type": "stream",
          "name": "stdout",
          "text": [
            "Best Accuracy:69.27%\n"
          ]
        }
      ]
    },
    {
      "cell_type": "code",
      "source": [
        "accs = []\n",
        "class AlexNet3(nn.Module):\n",
        "    def __init__(self, num_classes: int = 15, dropout: float = 0.5) -> None:\n",
        "        super().__init__()\n",
        "        self.features = nn.Sequential(\n",
        "            nn.Conv2d(3, 64, kernel_size=11, stride=4, padding=2),\n",
        "            nn.ReLU(inplace=True),\n",
        "            nn.MaxPool2d(kernel_size=3, stride=2),\n",
        "            nn.Conv2d(64, 192, kernel_size=5, padding=2),\n",
        "            nn.ReLU(inplace=True),\n",
        "            nn.MaxPool2d(kernel_size=3, stride=2),\n",
        "            nn.Conv2d(192, 384, kernel_size=3, padding=1),\n",
        "            nn.ReLU(inplace=True),\n",
        "            nn.Conv2d(384, 256, kernel_size=3, padding=1),\n",
        "            nn.ReLU(inplace=True),\n",
        "            nn.Conv2d(256, 256, kernel_size=3, padding=1),\n",
        "            nn.ReLU(inplace=True),\n",
        "            nn.MaxPool2d(kernel_size=3, stride=2),\n",
        "        )\n",
        "        self.avgpool = nn.AdaptiveAvgPool2d((6, 6))\n",
        "        self.classifier = nn.Sequential(\n",
        "            nn.Dropout(p=dropout),\n",
        "            nn.Linear(256 * 6 * 6, 4096),\n",
        "            nn.ReLU(inplace=True),\n",
        "            nn.Dropout(p=dropout),\n",
        "            nn.Linear(4096, 4096),\n",
        "            nn.ReLU(inplace=True),\n",
        "            nn.Linear(4096, num_classes),\n",
        "        )\n",
        "\n",
        "    def forward(self, x: torch.Tensor) -> torch.Tensor:\n",
        "        x = self.features(x)\n",
        "        x = self.avgpool(x)\n",
        "        x = torch.flatten(x, 1)\n",
        "        x = self.classifier(x)\n",
        "        return x\n",
        "\n",
        "net = AlexNet3().to(device)\n",
        "net\n",
        "\n",
        "criterion = nn.CrossEntropyLoss().to(device)\n",
        "optimizer = torch.optim.Adam(net.parameters(), lr=1e-4)\n",
        "\n",
        "epochs = 50\n",
        "from time import time\n",
        "accs_train = []\n",
        "loss_train = []\n",
        "accs_test = []\n",
        "loss_test = []\n",
        "for e in range(epochs):\n",
        "    start_time = time()\n",
        "    accs_train,loss_train = train_epoch(net, criterion, optimizer, trainloader,accs_train,loss_train)\n",
        "    accs_test,loss_test = eval_epoch(net, criterion, valloader,accs_test,loss_test)\n",
        "\n",
        "    end_time = time()\n",
        "\n",
        "    print(f'Epoch {e+1:3} finished in {end_time - start_time:.2f}s')\n",
        "\n",
        "plt.plot(np.array(loss_test), 'r')\n",
        "plt.plot(np.array(loss_train), 'b')\n",
        "plt.title('Model loss')\n",
        "plt.ylabel('Loss')\n",
        "plt.xlabel('Epoch')\n",
        "plt.legend(['Test', 'Train'])\n",
        "plt.savefig('loss3.jpg')\n",
        "plt.show()\n",
        "\n",
        "plt.plot(np.array(accs_test), 'r')\n",
        "plt.plot(np.array(accs_train), 'b')\n",
        "plt.title('Model Accuracy')\n",
        "plt.ylabel('Accuracy')\n",
        "plt.xlabel('Epoch')\n",
        "plt.legend(['Test', 'Train'])\n",
        "plt.savefig('acc3.jpg')\n",
        "plt.show()\n",
        "\n",
        "torch.save(net.state_dict(), 'alexNet3.pth')\n",
        "print(f'Best Accuracy:{max(accs_test) * 100.:.2f}%')\n"
      ],
      "metadata": {
        "id": "zAJ2TnI0Zo7I",
        "colab": {
          "base_uri": "https://localhost:8080/",
          "height": 1000
        },
        "outputId": "354061a5-96c1-49ca-99fe-54558b635f1c"
      },
      "execution_count": 22,
      "outputs": [
        {
          "output_type": "stream",
          "name": "stderr",
          "text": [
            "Loss: 2.687e+00 - Acc: 9.21%: 100%|██████████| 12/12 [00:22<00:00,  1.91s/it]\n",
            "Loss: 2.699e+00 - Acc: 8.53% : 100%|██████████| 2/2 [00:08<00:00,  4.26s/it]\n"
          ]
        },
        {
          "output_type": "stream",
          "name": "stdout",
          "text": [
            "Epoch   1 finished in 31.78s\n"
          ]
        },
        {
          "output_type": "stream",
          "name": "stderr",
          "text": [
            "Loss: 2.661e+00 - Acc: 10.95%: 100%|██████████| 12/12 [00:17<00:00,  1.46s/it]\n",
            "Loss: 2.685e+00 - Acc: 11.47% : 100%|██████████| 2/2 [00:08<00:00,  4.21s/it]\n"
          ]
        },
        {
          "output_type": "stream",
          "name": "stdout",
          "text": [
            "Epoch   2 finished in 26.40s\n"
          ]
        },
        {
          "output_type": "stream",
          "name": "stderr",
          "text": [
            "Loss: 2.526e+00 - Acc: 17.39%: 100%|██████████| 12/12 [00:21<00:00,  1.76s/it]\n",
            "Loss: 2.435e+00 - Acc: 20.47% : 100%|██████████| 2/2 [00:08<00:00,  4.21s/it]\n"
          ]
        },
        {
          "output_type": "stream",
          "name": "stdout",
          "text": [
            "Epoch   3 finished in 29.89s\n"
          ]
        },
        {
          "output_type": "stream",
          "name": "stderr",
          "text": [
            "Loss: 2.391e+00 - Acc: 21.64%: 100%|██████████| 12/12 [00:16<00:00,  1.40s/it]\n",
            "Loss: 2.278e+00 - Acc: 22.27% : 100%|██████████| 2/2 [00:09<00:00,  4.99s/it]\n"
          ]
        },
        {
          "output_type": "stream",
          "name": "stdout",
          "text": [
            "Epoch   4 finished in 27.18s\n"
          ]
        },
        {
          "output_type": "stream",
          "name": "stderr",
          "text": [
            "Loss: 2.232e+00 - Acc: 28.04%: 100%|██████████| 12/12 [00:15<00:00,  1.33s/it]\n",
            "Loss: 2.204e+00 - Acc: 28.40% : 100%|██████████| 2/2 [00:09<00:00,  4.57s/it]\n"
          ]
        },
        {
          "output_type": "stream",
          "name": "stdout",
          "text": [
            "Epoch   5 finished in 25.54s\n"
          ]
        },
        {
          "output_type": "stream",
          "name": "stderr",
          "text": [
            "Loss: 2.164e+00 - Acc: 29.92%: 100%|██████████| 12/12 [00:16<00:00,  1.34s/it]\n",
            "Loss: 1.938e+00 - Acc: 35.07% : 100%|██████████| 2/2 [00:08<00:00,  4.35s/it]\n"
          ]
        },
        {
          "output_type": "stream",
          "name": "stdout",
          "text": [
            "Epoch   6 finished in 25.19s\n"
          ]
        },
        {
          "output_type": "stream",
          "name": "stderr",
          "text": [
            "Loss: 2.004e+00 - Acc: 34.91%: 100%|██████████| 12/12 [00:17<00:00,  1.44s/it]\n",
            "Loss: 1.796e+00 - Acc: 39.33% : 100%|██████████| 2/2 [00:08<00:00,  4.29s/it]\n"
          ]
        },
        {
          "output_type": "stream",
          "name": "stdout",
          "text": [
            "Epoch   7 finished in 26.33s\n"
          ]
        },
        {
          "output_type": "stream",
          "name": "stderr",
          "text": [
            "Loss: 1.855e+00 - Acc: 38.66%: 100%|██████████| 12/12 [00:15<00:00,  1.33s/it]\n",
            "Loss: 1.709e+00 - Acc: 41.13% : 100%|██████████| 2/2 [00:08<00:00,  4.24s/it]\n"
          ]
        },
        {
          "output_type": "stream",
          "name": "stdout",
          "text": [
            "Epoch   8 finished in 24.84s\n"
          ]
        },
        {
          "output_type": "stream",
          "name": "stderr",
          "text": [
            "Loss: 1.832e+00 - Acc: 39.43%: 100%|██████████| 12/12 [00:15<00:00,  1.32s/it]\n",
            "Loss: 1.655e+00 - Acc: 43.60% : 100%|██████████| 2/2 [00:09<00:00,  4.81s/it]\n"
          ]
        },
        {
          "output_type": "stream",
          "name": "stdout",
          "text": [
            "Epoch   9 finished in 25.82s\n"
          ]
        },
        {
          "output_type": "stream",
          "name": "stderr",
          "text": [
            "Loss: 1.702e+00 - Acc: 43.95%: 100%|██████████| 12/12 [00:15<00:00,  1.33s/it]\n",
            "Loss: 1.745e+00 - Acc: 44.60% : 100%|██████████| 2/2 [00:08<00:00,  4.21s/it]\n"
          ]
        },
        {
          "output_type": "stream",
          "name": "stdout",
          "text": [
            "Epoch  10 finished in 24.77s\n"
          ]
        },
        {
          "output_type": "stream",
          "name": "stderr",
          "text": [
            "Loss: 1.650e+00 - Acc: 45.93%: 100%|██████████| 12/12 [00:15<00:00,  1.31s/it]\n",
            "Loss: 1.644e+00 - Acc: 44.00% : 100%|██████████| 2/2 [00:08<00:00,  4.23s/it]\n"
          ]
        },
        {
          "output_type": "stream",
          "name": "stdout",
          "text": [
            "Epoch  11 finished in 24.62s\n"
          ]
        },
        {
          "output_type": "stream",
          "name": "stderr",
          "text": [
            "Loss: 1.620e+00 - Acc: 45.63%: 100%|██████████| 12/12 [00:17<00:00,  1.46s/it]\n",
            "Loss: 1.608e+00 - Acc: 44.20% : 100%|██████████| 2/2 [00:08<00:00,  4.23s/it]\n"
          ]
        },
        {
          "output_type": "stream",
          "name": "stdout",
          "text": [
            "Epoch  12 finished in 26.44s\n"
          ]
        },
        {
          "output_type": "stream",
          "name": "stderr",
          "text": [
            "Loss: 1.521e+00 - Acc: 48.27%: 100%|██████████| 12/12 [00:15<00:00,  1.32s/it]\n",
            "Loss: 1.555e+00 - Acc: 48.07% : 100%|██████████| 2/2 [00:08<00:00,  4.24s/it]\n"
          ]
        },
        {
          "output_type": "stream",
          "name": "stdout",
          "text": [
            "Epoch  13 finished in 24.68s\n"
          ]
        },
        {
          "output_type": "stream",
          "name": "stderr",
          "text": [
            "Loss: 1.508e+00 - Acc: 48.31%: 100%|██████████| 12/12 [00:15<00:00,  1.31s/it]\n",
            "Loss: 1.367e+00 - Acc: 52.67% : 100%|██████████| 2/2 [00:09<00:00,  4.77s/it]\n"
          ]
        },
        {
          "output_type": "stream",
          "name": "stdout",
          "text": [
            "Epoch  14 finished in 25.69s\n"
          ]
        },
        {
          "output_type": "stream",
          "name": "stderr",
          "text": [
            "Loss: 1.424e+00 - Acc: 52.29%: 100%|██████████| 12/12 [00:16<00:00,  1.34s/it]\n",
            "Loss: 1.362e+00 - Acc: 52.53% : 100%|██████████| 2/2 [00:08<00:00,  4.26s/it]\n"
          ]
        },
        {
          "output_type": "stream",
          "name": "stdout",
          "text": [
            "Epoch  15 finished in 25.01s\n"
          ]
        },
        {
          "output_type": "stream",
          "name": "stderr",
          "text": [
            "Loss: 1.372e+00 - Acc: 53.37%: 100%|██████████| 12/12 [00:16<00:00,  1.35s/it]\n",
            "Loss: 1.382e+00 - Acc: 53.67% : 100%|██████████| 2/2 [00:08<00:00,  4.25s/it]\n"
          ]
        },
        {
          "output_type": "stream",
          "name": "stdout",
          "text": [
            "Epoch  16 finished in 25.17s\n"
          ]
        },
        {
          "output_type": "stream",
          "name": "stderr",
          "text": [
            "Loss: 1.359e+00 - Acc: 53.70%: 100%|██████████| 12/12 [00:17<00:00,  1.46s/it]\n",
            "Loss: 1.357e+00 - Acc: 55.87% : 100%|██████████| 2/2 [00:08<00:00,  4.21s/it]\n"
          ]
        },
        {
          "output_type": "stream",
          "name": "stdout",
          "text": [
            "Epoch  17 finished in 26.37s\n"
          ]
        },
        {
          "output_type": "stream",
          "name": "stderr",
          "text": [
            "Loss: 1.337e+00 - Acc: 55.81%: 100%|██████████| 12/12 [00:16<00:00,  1.36s/it]\n",
            "Loss: 1.288e+00 - Acc: 57.00% : 100%|██████████| 2/2 [00:08<00:00,  4.31s/it]\n"
          ]
        },
        {
          "output_type": "stream",
          "name": "stdout",
          "text": [
            "Epoch  18 finished in 25.32s\n"
          ]
        },
        {
          "output_type": "stream",
          "name": "stderr",
          "text": [
            "Loss: 1.317e+00 - Acc: 56.28%: 100%|██████████| 12/12 [00:15<00:00,  1.32s/it]\n",
            "Loss: 1.290e+00 - Acc: 57.00% : 100%|██████████| 2/2 [00:09<00:00,  4.77s/it]\n"
          ]
        },
        {
          "output_type": "stream",
          "name": "stdout",
          "text": [
            "Epoch  19 finished in 25.81s\n"
          ]
        },
        {
          "output_type": "stream",
          "name": "stderr",
          "text": [
            "Loss: 1.305e+00 - Acc: 55.85%: 100%|██████████| 12/12 [00:16<00:00,  1.34s/it]\n",
            "Loss: 1.275e+00 - Acc: 57.33% : 100%|██████████| 2/2 [00:08<00:00,  4.20s/it]\n"
          ]
        },
        {
          "output_type": "stream",
          "name": "stdout",
          "text": [
            "Epoch  20 finished in 24.85s\n"
          ]
        },
        {
          "output_type": "stream",
          "name": "stderr",
          "text": [
            "Loss: 1.236e+00 - Acc: 59.43%: 100%|██████████| 12/12 [00:16<00:00,  1.33s/it]\n",
            "Loss: 1.185e+00 - Acc: 61.47% : 100%|██████████| 2/2 [00:08<00:00,  4.22s/it]\n"
          ]
        },
        {
          "output_type": "stream",
          "name": "stdout",
          "text": [
            "Epoch  21 finished in 24.89s\n"
          ]
        },
        {
          "output_type": "stream",
          "name": "stderr",
          "text": [
            "Loss: 1.160e+00 - Acc: 61.27%: 100%|██████████| 12/12 [00:17<00:00,  1.43s/it]\n",
            "Loss: 1.386e+00 - Acc: 57.47% : 100%|██████████| 2/2 [00:08<00:00,  4.28s/it]\n"
          ]
        },
        {
          "output_type": "stream",
          "name": "stdout",
          "text": [
            "Epoch  22 finished in 26.09s\n"
          ]
        },
        {
          "output_type": "stream",
          "name": "stderr",
          "text": [
            "Loss: 1.227e+00 - Acc: 58.83%: 100%|██████████| 12/12 [00:15<00:00,  1.33s/it]\n",
            "Loss: 1.230e+00 - Acc: 59.87% : 100%|██████████| 2/2 [00:08<00:00,  4.14s/it]\n"
          ]
        },
        {
          "output_type": "stream",
          "name": "stdout",
          "text": [
            "Epoch  23 finished in 24.70s\n"
          ]
        },
        {
          "output_type": "stream",
          "name": "stderr",
          "text": [
            "Loss: 1.261e+00 - Acc: 57.89%: 100%|██████████| 12/12 [00:15<00:00,  1.32s/it]\n",
            "Loss: 1.261e+00 - Acc: 60.27% : 100%|██████████| 2/2 [00:09<00:00,  4.65s/it]\n"
          ]
        },
        {
          "output_type": "stream",
          "name": "stdout",
          "text": [
            "Epoch  24 finished in 25.55s\n"
          ]
        },
        {
          "output_type": "stream",
          "name": "stderr",
          "text": [
            "Loss: 1.131e+00 - Acc: 62.28%: 100%|██████████| 12/12 [00:16<00:00,  1.34s/it]\n",
            "Loss: 1.195e+00 - Acc: 61.93% : 100%|██████████| 2/2 [00:08<00:00,  4.33s/it]\n"
          ]
        },
        {
          "output_type": "stream",
          "name": "stdout",
          "text": [
            "Epoch  25 finished in 25.13s\n"
          ]
        },
        {
          "output_type": "stream",
          "name": "stderr",
          "text": [
            "Loss: 1.062e+00 - Acc: 63.38%: 100%|██████████| 12/12 [00:16<00:00,  1.37s/it]\n",
            "Loss: 1.228e+00 - Acc: 63.13% : 100%|██████████| 2/2 [00:08<00:00,  4.31s/it]\n"
          ]
        },
        {
          "output_type": "stream",
          "name": "stdout",
          "text": [
            "Epoch  26 finished in 25.55s\n"
          ]
        },
        {
          "output_type": "stream",
          "name": "stderr",
          "text": [
            "Loss: 1.013e+00 - Acc: 66.33%: 100%|██████████| 12/12 [00:17<00:00,  1.46s/it]\n",
            "Loss: 1.219e+00 - Acc: 63.13% : 100%|██████████| 2/2 [00:08<00:00,  4.29s/it]\n"
          ]
        },
        {
          "output_type": "stream",
          "name": "stdout",
          "text": [
            "Epoch  27 finished in 26.54s\n"
          ]
        },
        {
          "output_type": "stream",
          "name": "stderr",
          "text": [
            "Loss: 9.726e-01 - Acc: 67.54%: 100%|██████████| 12/12 [00:16<00:00,  1.35s/it]\n",
            "Loss: 1.150e+00 - Acc: 64.33% : 100%|██████████| 2/2 [00:08<00:00,  4.26s/it]\n"
          ]
        },
        {
          "output_type": "stream",
          "name": "stdout",
          "text": [
            "Epoch  28 finished in 25.08s\n"
          ]
        },
        {
          "output_type": "stream",
          "name": "stderr",
          "text": [
            "Loss: 9.409e-01 - Acc: 67.77%: 100%|██████████| 12/12 [00:16<00:00,  1.35s/it]\n",
            "Loss: 1.181e+00 - Acc: 64.27% : 100%|██████████| 2/2 [00:09<00:00,  4.67s/it]\n"
          ]
        },
        {
          "output_type": "stream",
          "name": "stdout",
          "text": [
            "Epoch  29 finished in 25.90s\n"
          ]
        },
        {
          "output_type": "stream",
          "name": "stderr",
          "text": [
            "Loss: 9.354e-01 - Acc: 68.11%: 100%|██████████| 12/12 [00:16<00:00,  1.33s/it]\n",
            "Loss: 1.145e+00 - Acc: 63.07% : 100%|██████████| 2/2 [00:08<00:00,  4.35s/it]\n"
          ]
        },
        {
          "output_type": "stream",
          "name": "stdout",
          "text": [
            "Epoch  30 finished in 25.12s\n"
          ]
        },
        {
          "output_type": "stream",
          "name": "stderr",
          "text": [
            "Loss: 9.009e-01 - Acc: 68.94%: 100%|██████████| 12/12 [00:15<00:00,  1.33s/it]\n",
            "Loss: 1.148e+00 - Acc: 65.20% : 100%|██████████| 2/2 [00:08<00:00,  4.25s/it]\n"
          ]
        },
        {
          "output_type": "stream",
          "name": "stdout",
          "text": [
            "Epoch  31 finished in 24.92s\n"
          ]
        },
        {
          "output_type": "stream",
          "name": "stderr",
          "text": [
            "Loss: 8.911e-01 - Acc: 69.78%: 100%|██████████| 12/12 [00:17<00:00,  1.45s/it]\n",
            "Loss: 1.179e+00 - Acc: 64.80% : 100%|██████████| 2/2 [00:08<00:00,  4.26s/it]\n"
          ]
        },
        {
          "output_type": "stream",
          "name": "stdout",
          "text": [
            "Epoch  32 finished in 26.29s\n"
          ]
        },
        {
          "output_type": "stream",
          "name": "stderr",
          "text": [
            "Loss: 8.429e-01 - Acc: 71.39%: 100%|██████████| 12/12 [00:15<00:00,  1.33s/it]\n",
            "Loss: 1.142e+00 - Acc: 65.73% : 100%|██████████| 2/2 [00:08<00:00,  4.23s/it]\n"
          ]
        },
        {
          "output_type": "stream",
          "name": "stdout",
          "text": [
            "Epoch  33 finished in 24.82s\n"
          ]
        },
        {
          "output_type": "stream",
          "name": "stderr",
          "text": [
            "Loss: 8.269e-01 - Acc: 72.40%: 100%|██████████| 12/12 [00:16<00:00,  1.34s/it]\n",
            "Loss: 1.151e+00 - Acc: 64.47% : 100%|██████████| 2/2 [00:09<00:00,  4.56s/it]\n"
          ]
        },
        {
          "output_type": "stream",
          "name": "stdout",
          "text": [
            "Epoch  34 finished in 25.58s\n"
          ]
        },
        {
          "output_type": "stream",
          "name": "stderr",
          "text": [
            "Loss: 7.793e-01 - Acc: 73.53%: 100%|██████████| 12/12 [00:16<00:00,  1.36s/it]\n",
            "Loss: 1.249e+00 - Acc: 63.40% : 100%|██████████| 2/2 [00:08<00:00,  4.21s/it]\n"
          ]
        },
        {
          "output_type": "stream",
          "name": "stdout",
          "text": [
            "Epoch  35 finished in 25.13s\n"
          ]
        },
        {
          "output_type": "stream",
          "name": "stderr",
          "text": [
            "Loss: 8.401e-01 - Acc: 71.16%: 100%|██████████| 12/12 [00:15<00:00,  1.31s/it]\n",
            "Loss: 1.261e+00 - Acc: 65.60% : 100%|██████████| 2/2 [00:08<00:00,  4.22s/it]\n"
          ]
        },
        {
          "output_type": "stream",
          "name": "stdout",
          "text": [
            "Epoch  36 finished in 24.62s\n"
          ]
        },
        {
          "output_type": "stream",
          "name": "stderr",
          "text": [
            "Loss: 8.043e-01 - Acc: 72.06%: 100%|██████████| 12/12 [00:17<00:00,  1.47s/it]\n",
            "Loss: 1.174e+00 - Acc: 65.60% : 100%|██████████| 2/2 [00:08<00:00,  4.20s/it]\n"
          ]
        },
        {
          "output_type": "stream",
          "name": "stdout",
          "text": [
            "Epoch  37 finished in 26.45s\n"
          ]
        },
        {
          "output_type": "stream",
          "name": "stderr",
          "text": [
            "Loss: 7.228e-01 - Acc: 75.31%: 100%|██████████| 12/12 [00:16<00:00,  1.35s/it]\n",
            "Loss: 1.155e+00 - Acc: 68.00% : 100%|██████████| 2/2 [00:08<00:00,  4.18s/it]\n"
          ]
        },
        {
          "output_type": "stream",
          "name": "stdout",
          "text": [
            "Epoch  38 finished in 24.94s\n"
          ]
        },
        {
          "output_type": "stream",
          "name": "stderr",
          "text": [
            "Loss: 6.836e-01 - Acc: 77.12%: 100%|██████████| 12/12 [00:15<00:00,  1.33s/it]\n",
            "Loss: 1.132e+00 - Acc: 68.60% : 100%|██████████| 2/2 [00:08<00:00,  4.50s/it]"
          ]
        },
        {
          "output_type": "stream",
          "name": "stdout",
          "text": [
            "Epoch  39 finished in 25.41s\n"
          ]
        },
        {
          "output_type": "stream",
          "name": "stderr",
          "text": [
            "\n",
            "Loss: 6.744e-01 - Acc: 76.52%: 100%|██████████| 12/12 [00:16<00:00,  1.37s/it]\n",
            "Loss: 1.111e+00 - Acc: 68.80% : 100%|██████████| 2/2 [00:08<00:00,  4.23s/it]\n"
          ]
        },
        {
          "output_type": "stream",
          "name": "stdout",
          "text": [
            "Epoch  40 finished in 25.32s\n"
          ]
        },
        {
          "output_type": "stream",
          "name": "stderr",
          "text": [
            "Loss: 6.585e-01 - Acc: 77.29%: 100%|██████████| 12/12 [00:16<00:00,  1.35s/it]\n",
            "Loss: 1.333e+00 - Acc: 65.87% : 100%|██████████| 2/2 [00:08<00:00,  4.26s/it]\n"
          ]
        },
        {
          "output_type": "stream",
          "name": "stdout",
          "text": [
            "Epoch  41 finished in 25.19s\n"
          ]
        },
        {
          "output_type": "stream",
          "name": "stderr",
          "text": [
            "Loss: 7.018e-01 - Acc: 76.31%: 100%|██████████| 12/12 [00:17<00:00,  1.45s/it]\n",
            "Loss: 1.227e+00 - Acc: 66.07% : 100%|██████████| 2/2 [00:08<00:00,  4.21s/it]\n"
          ]
        },
        {
          "output_type": "stream",
          "name": "stdout",
          "text": [
            "Epoch  42 finished in 26.27s\n"
          ]
        },
        {
          "output_type": "stream",
          "name": "stderr",
          "text": [
            "Loss: 6.414e-01 - Acc: 77.79%: 100%|██████████| 12/12 [00:16<00:00,  1.38s/it]\n",
            "Loss: 1.144e+00 - Acc: 68.27% : 100%|██████████| 2/2 [00:08<00:00,  4.26s/it]\n"
          ]
        },
        {
          "output_type": "stream",
          "name": "stdout",
          "text": [
            "Epoch  43 finished in 25.42s\n"
          ]
        },
        {
          "output_type": "stream",
          "name": "stderr",
          "text": [
            "Loss: 6.339e-01 - Acc: 77.99%: 100%|██████████| 12/12 [00:15<00:00,  1.31s/it]\n",
            "Loss: 1.113e+00 - Acc: 69.47% : 100%|██████████| 2/2 [00:08<00:00,  4.30s/it]\n"
          ]
        },
        {
          "output_type": "stream",
          "name": "stdout",
          "text": [
            "Epoch  44 finished in 24.83s\n"
          ]
        },
        {
          "output_type": "stream",
          "name": "stderr",
          "text": [
            "Loss: 5.466e-01 - Acc: 81.41%: 100%|██████████| 12/12 [00:16<00:00,  1.37s/it]\n",
            "Loss: 1.251e+00 - Acc: 68.33% : 100%|██████████| 2/2 [00:08<00:00,  4.20s/it]\n"
          ]
        },
        {
          "output_type": "stream",
          "name": "stdout",
          "text": [
            "Epoch  45 finished in 25.16s\n"
          ]
        },
        {
          "output_type": "stream",
          "name": "stderr",
          "text": [
            "Loss: 5.632e-01 - Acc: 80.34%: 100%|██████████| 12/12 [00:15<00:00,  1.33s/it]\n",
            "Loss: 1.233e+00 - Acc: 69.07% : 100%|██████████| 2/2 [00:08<00:00,  4.21s/it]\n"
          ]
        },
        {
          "output_type": "stream",
          "name": "stdout",
          "text": [
            "Epoch  46 finished in 24.91s\n"
          ]
        },
        {
          "output_type": "stream",
          "name": "stderr",
          "text": [
            "Loss: 5.285e-01 - Acc: 82.08%: 100%|██████████| 12/12 [00:16<00:00,  1.41s/it]\n",
            "Loss: 1.209e+00 - Acc: 68.80% : 100%|██████████| 2/2 [00:08<00:00,  4.19s/it]\n"
          ]
        },
        {
          "output_type": "stream",
          "name": "stdout",
          "text": [
            "Epoch  47 finished in 25.76s\n"
          ]
        },
        {
          "output_type": "stream",
          "name": "stderr",
          "text": [
            "Loss: 5.232e-01 - Acc: 82.31%: 100%|██████████| 12/12 [00:16<00:00,  1.34s/it]\n",
            "Loss: 1.264e+00 - Acc: 68.60% : 100%|██████████| 2/2 [00:08<00:00,  4.23s/it]\n"
          ]
        },
        {
          "output_type": "stream",
          "name": "stdout",
          "text": [
            "Epoch  48 finished in 25.02s\n"
          ]
        },
        {
          "output_type": "stream",
          "name": "stderr",
          "text": [
            "Loss: 5.087e-01 - Acc: 82.38%: 100%|██████████| 12/12 [00:15<00:00,  1.32s/it]\n",
            "Loss: 1.183e+00 - Acc: 68.00% : 100%|██████████| 2/2 [00:08<00:00,  4.26s/it]\n"
          ]
        },
        {
          "output_type": "stream",
          "name": "stdout",
          "text": [
            "Epoch  49 finished in 24.84s\n"
          ]
        },
        {
          "output_type": "stream",
          "name": "stderr",
          "text": [
            "Loss: 4.743e-01 - Acc: 82.65%: 100%|██████████| 12/12 [00:17<00:00,  1.43s/it]\n",
            "Loss: 1.233e+00 - Acc: 68.80% : 100%|██████████| 2/2 [00:08<00:00,  4.21s/it]\n"
          ]
        },
        {
          "output_type": "stream",
          "name": "stdout",
          "text": [
            "Epoch  50 finished in 25.99s\n"
          ]
        },
        {
          "output_type": "display_data",
          "data": {
            "text/plain": [
              "<Figure size 432x288 with 1 Axes>"
            ],
            "image/png": "[encoded data removed]"
          },
          "metadata": {
            "needs_background": "light"
          }
        },
        {
          "output_type": "display_data",
          "data": {
            "text/plain": [
              "<Figure size 432x288 with 1 Axes>"
            ],
            "image/png": "[encoded data removed]"
          },
          "metadata": {
            "needs_background": "light"
          }
        },
        {
          "output_type": "stream",
          "name": "stdout",
          "text": [
            "Best Accuracy:69.47%\n"
          ]
        }
      ]
    },
    {
      "cell_type": "code",
      "source": [
        "import torch\n",
        "import torch.nn as nn\n",
        "try:\n",
        "    from torch.hub import load_state_dict_from_url\n",
        "except ImportError:\n",
        "    from torch.utils.model_zoo import load_url as load_state_dict_from_url\n",
        "\n",
        "__all__ = [\"AlexNet\", \"alexnet\"]\n",
        "\n",
        "\n",
        "model_urls = {\n",
        "    \"alexnet\": \"https://download.pytorch.org/models/alexnet-owt-7be5be79.pth\",\n",
        "}"
      ],
      "metadata": {
        "id": "TjTq3n2W59CV"
      },
      "execution_count": 23,
      "outputs": []
    },
    {
      "cell_type": "code",
      "source": [
        "accs = []\n",
        "class AlexNet4(nn.Module):\n",
        "    def __init__(self, num_classes: int = 15, dropout: float = 0.5) -> None:\n",
        "        super().__init__()\n",
        "        self.features = nn.Sequential(\n",
        "            nn.Conv2d(3, 64, kernel_size=11, stride=4, padding=2),\n",
        "            nn.ReLU(inplace=True),\n",
        "            nn.MaxPool2d(kernel_size=3, stride=2),\n",
        "            nn.Conv2d(64, 192, kernel_size=5, padding=2),\n",
        "            nn.ReLU(inplace=True),\n",
        "            nn.MaxPool2d(kernel_size=3, stride=2),\n",
        "            nn.Conv2d(192, 384, kernel_size=3, padding=1),\n",
        "            nn.ReLU(inplace=True),\n",
        "            nn.Conv2d(384, 256, kernel_size=3, padding=1),\n",
        "            nn.ReLU(inplace=True),\n",
        "            nn.Conv2d(256, 256, kernel_size=3, padding=1),\n",
        "            nn.ReLU(inplace=True),\n",
        "            nn.MaxPool2d(kernel_size=3, stride=2),\n",
        "        )\n",
        "        self.avgpool = nn.AdaptiveAvgPool2d((6, 6))\n",
        "        self.classifier = nn.Sequential(\n",
        "            nn.Dropout(p=dropout),\n",
        "            nn.Linear(256 * 6 * 6, 4096),\n",
        "            nn.ReLU(inplace=True),\n",
        "            nn.Dropout(p=dropout),\n",
        "            nn.Linear(4096, 4096),\n",
        "        )\n",
        "\n",
        "    def forward(self, x: torch.Tensor) -> torch.Tensor:\n",
        "        x = self.features(x)\n",
        "        x = self.avgpool(x)\n",
        "        x = torch.flatten(x, 1)\n",
        "        x = self.classifier(x)\n",
        "        return x\n",
        "\n",
        "class lastLayer(nn.Module):\n",
        "    def __init__(self, pretrained):\n",
        "        super(lastLayer, self).__init__()\n",
        "        self.pretrained = pretrained\n",
        "        self.last = nn.Sequential(nn.ReLU(inplace=True),\n",
        "                                           nn.Linear(4096, 15))\n",
        "    \n",
        "    def forward(self, x):\n",
        "        x = self.pretrained(x)\n",
        "        x = self.last(x)\n",
        "        return x\n",
        "\n",
        "\n",
        "net = AlexNet4()\n",
        "for param in net.parameters():\n",
        "      param.requires_grad = False\n",
        "\n",
        "state_dict = load_state_dict_from_url(model_urls[\"alexnet\"], progress=True)\n",
        "net.load_state_dict(state_dict,strict=False)\n",
        "net = lastLayer(net).to(device)\n",
        "\n",
        "criterion = nn.CrossEntropyLoss().to(device)\n",
        "optimizer = torch.optim.Adam(net.parameters(), lr=1e-4)\n",
        "\n",
        "epochs = 50\n",
        "from time import time\n",
        "accs_train = []\n",
        "loss_train = []\n",
        "accs_test = []\n",
        "loss_test = []\n",
        "for e in range(epochs):\n",
        "    start_time = time()\n",
        "    accs_train,loss_train = train_epoch(net, criterion, optimizer, trainloader,accs_train,loss_train)\n",
        "    accs_test,loss_test = eval_epoch(net, criterion, valloader,accs_test,loss_test)\n",
        "\n",
        "    end_time = time()\n",
        "\n",
        "    print(f'Epoch {e+1:3} finished in {end_time - start_time:.2f}s')\n",
        "\n",
        "plt.plot(np.array(loss_test), 'r')\n",
        "plt.plot(np.array(loss_train), 'b')\n",
        "plt.title('Model loss')\n",
        "plt.ylabel('Loss')\n",
        "plt.xlabel('Epoch')\n",
        "plt.legend(['Test', 'Train'])\n",
        "plt.savefig('loss4.jpg')\n",
        "plt.show()\n",
        "\n",
        "plt.plot(np.array(accs_test), 'r')\n",
        "plt.plot(np.array(accs_train), 'b')\n",
        "plt.title('Model Accuracy')\n",
        "plt.ylabel('Accuracy')\n",
        "plt.xlabel('Epoch')\n",
        "plt.legend(['Test', 'Train'])\n",
        "plt.savefig('acc4.jpg')\n",
        "plt.show()\n",
        "\n",
        "torch.save(net.state_dict(), 'alexNet4.pth')\n",
        "print(f'Best Accuracy:{max(accs_test) * 100.:.2f}%')"
      ],
      "metadata": {
        "id": "yzNXevTTtnR8",
        "colab": {
          "base_uri": "https://localhost:8080/",
          "height": 1000,
          "referenced_widgets": [
            "ea88055c45b24946aa2dc8459b80b0f9",
            "17dde5989f954439985a8cd3e9c50a57",
            "4c07e07a19554a2fa5fa2c6e5cc3228c",
            "5fdca574b5aa4093937290c694d61887",
            "dd933d5136e74e29a0ea8fb022b5019d",
            "477dfd16c4144598b848c5e5479d8023",
            "202cb495632c44c8bb358e9c99bf3224",
            "6510c45c74b94046b96daea47f966fd8",
            "bb447a72167d4e9b994db39a876facc6",
            "891eecf24f0843abb8bf503cbc54e0c2",
            "185a2b3568f44493ae0a06fd38237edd"
          ]
        },
        "outputId": "d09f59d1-aec7-456e-d934-08564d18bee3"
      },
      "execution_count": 24,
      "outputs": [
        {
          "output_type": "stream",
          "name": "stderr",
          "text": [
            "Downloading: \"https://download.pytorch.org/models/alexnet-owt-7be5be79.pth\" to /root/.cache/torch/hub/checkpoints/alexnet-owt-7be5be79.pth\n"
          ]
        },
        {
          "output_type": "display_data",
          "data": {
            "text/plain": [
              "  0%|          | 0.00/233M [00:00<?, ?B/s]"
            ],
            "application/vnd.jupyter.widget-view+json": {
              "version_major": 2,
              "version_minor": 0,
              "model_id": "ea88055c45b24946aa2dc8459b80b0f9"
            }
          },
          "metadata": {}
        },
        {
          "output_type": "stream",
          "name": "stderr",
          "text": [
            "Loss: 2.545e+00 - Acc: 16.75%: 100%|██████████| 12/12 [00:15<00:00,  1.32s/it]\n",
            "Loss: 2.232e+00 - Acc: 31.60% : 100%|██████████| 2/2 [00:08<00:00,  4.26s/it]\n"
          ]
        },
        {
          "output_type": "stream",
          "name": "stdout",
          "text": [
            "Epoch   1 finished in 24.87s\n"
          ]
        },
        {
          "output_type": "stream",
          "name": "stderr",
          "text": [
            "Loss: 1.965e+00 - Acc: 40.13%: 100%|██████████| 12/12 [00:15<00:00,  1.28s/it]\n",
            "Loss: 1.747e+00 - Acc: 52.93% : 100%|██████████| 2/2 [00:08<00:00,  4.06s/it]\n"
          ]
        },
        {
          "output_type": "stream",
          "name": "stdout",
          "text": [
            "Epoch   2 finished in 23.86s\n"
          ]
        },
        {
          "output_type": "stream",
          "name": "stderr",
          "text": [
            "Loss: 1.605e+00 - Acc: 54.44%: 100%|██████████| 12/12 [00:15<00:00,  1.26s/it]\n",
            "Loss: 1.422e+00 - Acc: 63.87% : 100%|██████████| 2/2 [00:09<00:00,  4.69s/it]\n"
          ]
        },
        {
          "output_type": "stream",
          "name": "stdout",
          "text": [
            "Epoch   3 finished in 25.04s\n"
          ]
        },
        {
          "output_type": "stream",
          "name": "stderr",
          "text": [
            "Loss: 1.360e+00 - Acc: 63.15%: 100%|██████████| 12/12 [00:15<00:00,  1.28s/it]\n",
            "Loss: 1.191e+00 - Acc: 69.87% : 100%|██████████| 2/2 [00:08<00:00,  4.17s/it]\n"
          ]
        },
        {
          "output_type": "stream",
          "name": "stdout",
          "text": [
            "Epoch   4 finished in 24.14s\n"
          ]
        },
        {
          "output_type": "stream",
          "name": "stderr",
          "text": [
            "Loss: 1.175e+00 - Acc: 69.38%: 100%|██████████| 12/12 [00:14<00:00,  1.25s/it]\n",
            "Loss: 1.034e+00 - Acc: 73.67% : 100%|██████████| 2/2 [00:08<00:00,  4.16s/it]\n"
          ]
        },
        {
          "output_type": "stream",
          "name": "stdout",
          "text": [
            "Epoch   5 finished in 23.71s\n"
          ]
        },
        {
          "output_type": "stream",
          "name": "stderr",
          "text": [
            "Loss: 1.073e+00 - Acc: 71.42%: 100%|██████████| 12/12 [00:16<00:00,  1.36s/it]\n",
            "Loss: 9.311e-01 - Acc: 75.60% : 100%|██████████| 2/2 [00:08<00:00,  4.08s/it]\n"
          ]
        },
        {
          "output_type": "stream",
          "name": "stdout",
          "text": [
            "Epoch   6 finished in 24.94s\n"
          ]
        },
        {
          "output_type": "stream",
          "name": "stderr",
          "text": [
            "Loss: 9.903e-01 - Acc: 72.56%: 100%|██████████| 12/12 [00:15<00:00,  1.27s/it]\n",
            "Loss: 8.575e-01 - Acc: 76.93% : 100%|██████████| 2/2 [00:08<00:00,  4.09s/it]\n"
          ]
        },
        {
          "output_type": "stream",
          "name": "stdout",
          "text": [
            "Epoch   7 finished in 23.75s\n"
          ]
        },
        {
          "output_type": "stream",
          "name": "stderr",
          "text": [
            "Loss: 9.323e-01 - Acc: 74.17%: 100%|██████████| 12/12 [00:15<00:00,  1.29s/it]\n",
            "Loss: 7.998e-01 - Acc: 78.53% : 100%|██████████| 2/2 [00:09<00:00,  4.52s/it]\n"
          ]
        },
        {
          "output_type": "stream",
          "name": "stdout",
          "text": [
            "Epoch   8 finished in 24.87s\n"
          ]
        },
        {
          "output_type": "stream",
          "name": "stderr",
          "text": [
            "Loss: 8.704e-01 - Acc: 75.14%: 100%|██████████| 12/12 [00:15<00:00,  1.29s/it]\n",
            "Loss: 7.479e-01 - Acc: 80.47% : 100%|██████████| 2/2 [00:08<00:00,  4.19s/it]\n"
          ]
        },
        {
          "output_type": "stream",
          "name": "stdout",
          "text": [
            "Epoch   9 finished in 24.34s\n"
          ]
        },
        {
          "output_type": "stream",
          "name": "stderr",
          "text": [
            "Loss: 8.404e-01 - Acc: 75.85%: 100%|██████████| 12/12 [00:15<00:00,  1.28s/it]\n",
            "Loss: 7.049e-01 - Acc: 81.60% : 100%|██████████| 2/2 [00:08<00:00,  4.29s/it]\n"
          ]
        },
        {
          "output_type": "stream",
          "name": "stdout",
          "text": [
            "Epoch  10 finished in 24.41s\n"
          ]
        },
        {
          "output_type": "stream",
          "name": "stderr",
          "text": [
            "Loss: 7.927e-01 - Acc: 77.32%: 100%|██████████| 12/12 [00:16<00:00,  1.39s/it]\n",
            "Loss: 6.768e-01 - Acc: 81.93% : 100%|██████████| 2/2 [00:08<00:00,  4.23s/it]\n"
          ]
        },
        {
          "output_type": "stream",
          "name": "stdout",
          "text": [
            "Epoch  11 finished in 25.58s\n"
          ]
        },
        {
          "output_type": "stream",
          "name": "stderr",
          "text": [
            "Loss: 7.661e-01 - Acc: 76.95%: 100%|██████████| 12/12 [00:15<00:00,  1.28s/it]\n",
            "Loss: 6.471e-01 - Acc: 82.53% : 100%|██████████| 2/2 [00:08<00:00,  4.22s/it]\n"
          ]
        },
        {
          "output_type": "stream",
          "name": "stdout",
          "text": [
            "Epoch  12 finished in 24.18s\n"
          ]
        },
        {
          "output_type": "stream",
          "name": "stderr",
          "text": [
            "Loss: 7.511e-01 - Acc: 77.39%: 100%|██████████| 12/12 [00:15<00:00,  1.31s/it]\n",
            "Loss: 6.260e-01 - Acc: 83.53% : 100%|██████████| 2/2 [00:08<00:00,  4.24s/it]\n"
          ]
        },
        {
          "output_type": "stream",
          "name": "stdout",
          "text": [
            "Epoch  13 finished in 24.56s\n"
          ]
        },
        {
          "output_type": "stream",
          "name": "stderr",
          "text": [
            "Loss: 7.441e-01 - Acc: 77.82%: 100%|██████████| 12/12 [00:17<00:00,  1.43s/it]\n",
            "Loss: 6.031e-01 - Acc: 83.73% : 100%|██████████| 2/2 [00:08<00:00,  4.24s/it]\n"
          ]
        },
        {
          "output_type": "stream",
          "name": "stdout",
          "text": [
            "Epoch  14 finished in 26.10s\n"
          ]
        },
        {
          "output_type": "stream",
          "name": "stderr",
          "text": [
            "Loss: 7.000e-01 - Acc: 79.30%: 100%|██████████| 12/12 [00:15<00:00,  1.32s/it]\n",
            "Loss: 5.885e-01 - Acc: 84.33% : 100%|██████████| 2/2 [00:08<00:00,  4.22s/it]\n"
          ]
        },
        {
          "output_type": "stream",
          "name": "stdout",
          "text": [
            "Epoch  15 finished in 24.69s\n"
          ]
        },
        {
          "output_type": "stream",
          "name": "stderr",
          "text": [
            "Loss: 6.967e-01 - Acc: 78.86%: 100%|██████████| 12/12 [00:16<00:00,  1.36s/it]\n",
            "Loss: 5.718e-01 - Acc: 84.33% : 100%|██████████| 2/2 [00:09<00:00,  4.50s/it]\n"
          ]
        },
        {
          "output_type": "stream",
          "name": "stdout",
          "text": [
            "Epoch  16 finished in 25.84s\n"
          ]
        },
        {
          "output_type": "stream",
          "name": "stderr",
          "text": [
            "Loss: 7.069e-01 - Acc: 77.76%: 100%|██████████| 12/12 [00:15<00:00,  1.30s/it]\n",
            "Loss: 5.664e-01 - Acc: 84.40% : 100%|██████████| 2/2 [00:08<00:00,  4.23s/it]"
          ]
        },
        {
          "output_type": "stream",
          "name": "stdout",
          "text": [
            "Epoch  17 finished in 24.30s\n"
          ]
        },
        {
          "output_type": "stream",
          "name": "stderr",
          "text": [
            "\n",
            "Loss: 6.571e-01 - Acc: 79.46%: 100%|██████████| 12/12 [00:15<00:00,  1.29s/it]\n",
            "Loss: 5.495e-01 - Acc: 84.60% : 100%|██████████| 2/2 [00:08<00:00,  4.31s/it]\n"
          ]
        },
        {
          "output_type": "stream",
          "name": "stdout",
          "text": [
            "Epoch  18 finished in 24.62s\n"
          ]
        },
        {
          "output_type": "stream",
          "name": "stderr",
          "text": [
            "Loss: 6.458e-01 - Acc: 79.50%: 100%|██████████| 12/12 [00:16<00:00,  1.39s/it]\n",
            "Loss: 5.380e-01 - Acc: 84.87% : 100%|██████████| 2/2 [00:08<00:00,  4.24s/it]\n"
          ]
        },
        {
          "output_type": "stream",
          "name": "stdout",
          "text": [
            "Epoch  19 finished in 25.60s\n"
          ]
        },
        {
          "output_type": "stream",
          "name": "stderr",
          "text": [
            "Loss: 6.619e-01 - Acc: 78.69%: 100%|██████████| 12/12 [00:15<00:00,  1.29s/it]\n",
            "Loss: 5.248e-01 - Acc: 85.20% : 100%|██████████| 2/2 [00:08<00:00,  4.16s/it]\n"
          ]
        },
        {
          "output_type": "stream",
          "name": "stdout",
          "text": [
            "Epoch  20 finished in 24.23s\n"
          ]
        },
        {
          "output_type": "stream",
          "name": "stderr",
          "text": [
            "Loss: 6.280e-01 - Acc: 80.30%: 100%|██████████| 12/12 [00:15<00:00,  1.30s/it]\n",
            "Loss: 5.152e-01 - Acc: 85.40% : 100%|██████████| 2/2 [00:10<00:00,  5.09s/it]\n"
          ]
        },
        {
          "output_type": "stream",
          "name": "stdout",
          "text": [
            "Epoch  21 finished in 26.21s\n"
          ]
        },
        {
          "output_type": "stream",
          "name": "stderr",
          "text": [
            "Loss: 6.186e-01 - Acc: 80.23%: 100%|██████████| 12/12 [00:16<00:00,  1.36s/it]\n",
            "Loss: 5.006e-01 - Acc: 85.67% : 100%|██████████| 2/2 [00:08<00:00,  4.44s/it]\n"
          ]
        },
        {
          "output_type": "stream",
          "name": "stdout",
          "text": [
            "Epoch  22 finished in 25.58s\n"
          ]
        },
        {
          "output_type": "stream",
          "name": "stderr",
          "text": [
            "Loss: 6.223e-01 - Acc: 80.77%: 100%|██████████| 12/12 [00:15<00:00,  1.29s/it]\n",
            "Loss: 4.970e-01 - Acc: 85.87% : 100%|██████████| 2/2 [00:08<00:00,  4.32s/it]\n"
          ]
        },
        {
          "output_type": "stream",
          "name": "stdout",
          "text": [
            "Epoch  23 finished in 24.51s\n"
          ]
        },
        {
          "output_type": "stream",
          "name": "stderr",
          "text": [
            "Loss: 6.078e-01 - Acc: 80.57%: 100%|██████████| 12/12 [00:16<00:00,  1.40s/it]\n",
            "Loss: 4.937e-01 - Acc: 85.93% : 100%|██████████| 2/2 [00:08<00:00,  4.21s/it]\n"
          ]
        },
        {
          "output_type": "stream",
          "name": "stdout",
          "text": [
            "Epoch  24 finished in 25.62s\n"
          ]
        },
        {
          "output_type": "stream",
          "name": "stderr",
          "text": [
            "Loss: 5.958e-01 - Acc: 81.17%: 100%|██████████| 12/12 [00:15<00:00,  1.29s/it]\n",
            "Loss: 4.950e-01 - Acc: 85.67% : 100%|██████████| 2/2 [00:08<00:00,  4.24s/it]\n"
          ]
        },
        {
          "output_type": "stream",
          "name": "stdout",
          "text": [
            "Epoch  25 finished in 24.29s\n"
          ]
        },
        {
          "output_type": "stream",
          "name": "stderr",
          "text": [
            "Loss: 5.929e-01 - Acc: 81.51%: 100%|██████████| 12/12 [00:16<00:00,  1.40s/it]\n",
            "Loss: 4.929e-01 - Acc: 85.60% : 100%|██████████| 2/2 [00:08<00:00,  4.18s/it]\n"
          ]
        },
        {
          "output_type": "stream",
          "name": "stdout",
          "text": [
            "Epoch  26 finished in 25.55s\n"
          ]
        },
        {
          "output_type": "stream",
          "name": "stderr",
          "text": [
            "Loss: 5.989e-01 - Acc: 81.34%: 100%|██████████| 12/12 [00:15<00:00,  1.30s/it]\n",
            "Loss: 4.824e-01 - Acc: 86.07% : 100%|██████████| 2/2 [00:08<00:00,  4.26s/it]\n"
          ]
        },
        {
          "output_type": "stream",
          "name": "stdout",
          "text": [
            "Epoch  27 finished in 24.53s\n"
          ]
        },
        {
          "output_type": "stream",
          "name": "stderr",
          "text": [
            "Loss: 5.822e-01 - Acc: 81.51%: 100%|██████████| 12/12 [00:15<00:00,  1.29s/it]\n",
            "Loss: 4.786e-01 - Acc: 86.00% : 100%|██████████| 2/2 [00:09<00:00,  4.58s/it]\n"
          ]
        },
        {
          "output_type": "stream",
          "name": "stdout",
          "text": [
            "Epoch  28 finished in 24.97s\n"
          ]
        },
        {
          "output_type": "stream",
          "name": "stderr",
          "text": [
            "Loss: 5.916e-01 - Acc: 80.94%: 100%|██████████| 12/12 [00:15<00:00,  1.30s/it]\n",
            "Loss: 4.717e-01 - Acc: 86.20% : 100%|██████████| 2/2 [00:08<00:00,  4.17s/it]\n"
          ]
        },
        {
          "output_type": "stream",
          "name": "stdout",
          "text": [
            "Epoch  29 finished in 24.37s\n"
          ]
        },
        {
          "output_type": "stream",
          "name": "stderr",
          "text": [
            "Loss: 5.755e-01 - Acc: 82.35%: 100%|██████████| 12/12 [00:15<00:00,  1.28s/it]\n",
            "Loss: 4.714e-01 - Acc: 85.80% : 100%|██████████| 2/2 [00:08<00:00,  4.22s/it]\n"
          ]
        },
        {
          "output_type": "stream",
          "name": "stdout",
          "text": [
            "Epoch  30 finished in 24.21s\n"
          ]
        },
        {
          "output_type": "stream",
          "name": "stderr",
          "text": [
            "Loss: 5.519e-01 - Acc: 82.88%: 100%|██████████| 12/12 [00:16<00:00,  1.39s/it]\n",
            "Loss: 4.618e-01 - Acc: 86.40% : 100%|██████████| 2/2 [00:08<00:00,  4.18s/it]\n"
          ]
        },
        {
          "output_type": "stream",
          "name": "stdout",
          "text": [
            "Epoch  31 finished in 25.50s\n"
          ]
        },
        {
          "output_type": "stream",
          "name": "stderr",
          "text": [
            "Loss: 5.616e-01 - Acc: 82.58%: 100%|██████████| 12/12 [00:15<00:00,  1.28s/it]\n",
            "Loss: 4.653e-01 - Acc: 86.53% : 100%|██████████| 2/2 [00:08<00:00,  4.22s/it]\n"
          ]
        },
        {
          "output_type": "stream",
          "name": "stdout",
          "text": [
            "Epoch  32 finished in 24.19s\n"
          ]
        },
        {
          "output_type": "stream",
          "name": "stderr",
          "text": [
            "Loss: 5.686e-01 - Acc: 81.37%: 100%|██████████| 12/12 [00:15<00:00,  1.30s/it]\n",
            "Loss: 4.621e-01 - Acc: 86.73% : 100%|██████████| 2/2 [00:09<00:00,  4.85s/it]\n"
          ]
        },
        {
          "output_type": "stream",
          "name": "stdout",
          "text": [
            "Epoch  33 finished in 25.66s\n"
          ]
        },
        {
          "output_type": "stream",
          "name": "stderr",
          "text": [
            "Loss: 5.355e-01 - Acc: 82.81%: 100%|██████████| 12/12 [00:15<00:00,  1.31s/it]\n",
            "Loss: 4.563e-01 - Acc: 86.93% : 100%|██████████| 2/2 [00:08<00:00,  4.17s/it]\n"
          ]
        },
        {
          "output_type": "stream",
          "name": "stdout",
          "text": [
            "Epoch  34 finished in 24.52s\n"
          ]
        },
        {
          "output_type": "stream",
          "name": "stderr",
          "text": [
            "Loss: 5.566e-01 - Acc: 81.94%: 100%|██████████| 12/12 [00:15<00:00,  1.30s/it]\n",
            "Loss: 4.460e-01 - Acc: 87.00% : 100%|██████████| 2/2 [00:08<00:00,  4.20s/it]\n"
          ]
        },
        {
          "output_type": "stream",
          "name": "stdout",
          "text": [
            "Epoch  35 finished in 24.37s\n"
          ]
        },
        {
          "output_type": "stream",
          "name": "stderr",
          "text": [
            "Loss: 5.248e-01 - Acc: 82.95%: 100%|██████████| 12/12 [00:16<00:00,  1.41s/it]\n",
            "Loss: 4.408e-01 - Acc: 86.80% : 100%|██████████| 2/2 [00:08<00:00,  4.19s/it]\n"
          ]
        },
        {
          "output_type": "stream",
          "name": "stdout",
          "text": [
            "Epoch  36 finished in 25.65s\n"
          ]
        },
        {
          "output_type": "stream",
          "name": "stderr",
          "text": [
            "Loss: 5.210e-01 - Acc: 83.25%: 100%|██████████| 12/12 [00:15<00:00,  1.29s/it]\n",
            "Loss: 4.457e-01 - Acc: 86.60% : 100%|██████████| 2/2 [00:08<00:00,  4.24s/it]\n"
          ]
        },
        {
          "output_type": "stream",
          "name": "stdout",
          "text": [
            "Epoch  37 finished in 24.32s\n"
          ]
        },
        {
          "output_type": "stream",
          "name": "stderr",
          "text": [
            "Loss: 5.389e-01 - Acc: 82.58%: 100%|██████████| 12/12 [00:15<00:00,  1.28s/it]\n",
            "Loss: 4.398e-01 - Acc: 86.93% : 100%|██████████| 2/2 [00:09<00:00,  4.78s/it]\n"
          ]
        },
        {
          "output_type": "stream",
          "name": "stdout",
          "text": [
            "Epoch  38 finished in 25.32s\n"
          ]
        },
        {
          "output_type": "stream",
          "name": "stderr",
          "text": [
            "Loss: 5.241e-01 - Acc: 83.12%: 100%|██████████| 12/12 [00:15<00:00,  1.30s/it]\n",
            "Loss: 4.441e-01 - Acc: 86.93% : 100%|██████████| 2/2 [00:08<00:00,  4.20s/it]\n"
          ]
        },
        {
          "output_type": "stream",
          "name": "stdout",
          "text": [
            "Epoch  39 finished in 24.38s\n"
          ]
        },
        {
          "output_type": "stream",
          "name": "stderr",
          "text": [
            "Loss: 5.120e-01 - Acc: 83.69%: 100%|██████████| 12/12 [00:15<00:00,  1.29s/it]\n",
            "Loss: 4.385e-01 - Acc: 86.87% : 100%|██████████| 2/2 [00:08<00:00,  4.23s/it]\n"
          ]
        },
        {
          "output_type": "stream",
          "name": "stdout",
          "text": [
            "Epoch  40 finished in 24.40s\n"
          ]
        },
        {
          "output_type": "stream",
          "name": "stderr",
          "text": [
            "Loss: 4.971e-01 - Acc: 84.46%: 100%|██████████| 12/12 [00:16<00:00,  1.41s/it]\n",
            "Loss: 4.347e-01 - Acc: 87.20% : 100%|██████████| 2/2 [00:08<00:00,  4.27s/it]\n"
          ]
        },
        {
          "output_type": "stream",
          "name": "stdout",
          "text": [
            "Epoch  41 finished in 25.82s\n"
          ]
        },
        {
          "output_type": "stream",
          "name": "stderr",
          "text": [
            "Loss: 4.977e-01 - Acc: 83.95%: 100%|██████████| 12/12 [00:15<00:00,  1.27s/it]\n",
            "Loss: 4.325e-01 - Acc: 87.40% : 100%|██████████| 2/2 [00:08<00:00,  4.22s/it]\n"
          ]
        },
        {
          "output_type": "stream",
          "name": "stdout",
          "text": [
            "Epoch  42 finished in 24.05s\n"
          ]
        },
        {
          "output_type": "stream",
          "name": "stderr",
          "text": [
            "Loss: 5.087e-01 - Acc: 83.38%: 100%|██████████| 12/12 [00:15<00:00,  1.32s/it]\n",
            "Loss: 4.298e-01 - Acc: 87.27% : 100%|██████████| 2/2 [00:09<00:00,  4.61s/it]\n"
          ]
        },
        {
          "output_type": "stream",
          "name": "stdout",
          "text": [
            "Epoch  43 finished in 25.59s\n"
          ]
        },
        {
          "output_type": "stream",
          "name": "stderr",
          "text": [
            "Loss: 5.008e-01 - Acc: 83.65%: 100%|██████████| 12/12 [00:15<00:00,  1.30s/it]\n",
            "Loss: 4.195e-01 - Acc: 87.47% : 100%|██████████| 2/2 [00:08<00:00,  4.15s/it]\n"
          ]
        },
        {
          "output_type": "stream",
          "name": "stdout",
          "text": [
            "Epoch  44 finished in 24.29s\n"
          ]
        },
        {
          "output_type": "stream",
          "name": "stderr",
          "text": [
            "Loss: 4.849e-01 - Acc: 83.65%: 100%|██████████| 12/12 [00:15<00:00,  1.29s/it]\n",
            "Loss: 4.163e-01 - Acc: 87.67% : 100%|██████████| 2/2 [00:08<00:00,  4.23s/it]\n"
          ]
        },
        {
          "output_type": "stream",
          "name": "stdout",
          "text": [
            "Epoch  45 finished in 24.29s\n"
          ]
        },
        {
          "output_type": "stream",
          "name": "stderr",
          "text": [
            "Loss: 4.925e-01 - Acc: 84.19%: 100%|██████████| 12/12 [00:16<00:00,  1.40s/it]\n",
            "Loss: 4.187e-01 - Acc: 87.33% : 100%|██████████| 2/2 [00:08<00:00,  4.21s/it]\n"
          ]
        },
        {
          "output_type": "stream",
          "name": "stdout",
          "text": [
            "Epoch  46 finished in 25.66s\n"
          ]
        },
        {
          "output_type": "stream",
          "name": "stderr",
          "text": [
            "Loss: 4.890e-01 - Acc: 84.39%: 100%|██████████| 12/12 [00:15<00:00,  1.30s/it]\n",
            "Loss: 4.229e-01 - Acc: 87.20% : 100%|██████████| 2/2 [00:08<00:00,  4.23s/it]\n"
          ]
        },
        {
          "output_type": "stream",
          "name": "stdout",
          "text": [
            "Epoch  47 finished in 24.49s\n"
          ]
        },
        {
          "output_type": "stream",
          "name": "stderr",
          "text": [
            "Loss: 4.853e-01 - Acc: 84.42%: 100%|██████████| 12/12 [00:16<00:00,  1.37s/it]\n",
            "Loss: 4.258e-01 - Acc: 87.33% : 100%|██████████| 2/2 [00:08<00:00,  4.17s/it]\n"
          ]
        },
        {
          "output_type": "stream",
          "name": "stdout",
          "text": [
            "Epoch  48 finished in 25.20s\n"
          ]
        },
        {
          "output_type": "stream",
          "name": "stderr",
          "text": [
            "Loss: 4.937e-01 - Acc: 84.66%: 100%|██████████| 12/12 [00:15<00:00,  1.27s/it]\n",
            "Loss: 4.235e-01 - Acc: 87.20% : 100%|██████████| 2/2 [00:08<00:00,  4.17s/it]"
          ]
        },
        {
          "output_type": "stream",
          "name": "stdout",
          "text": [
            "Epoch  49 finished in 23.90s\n"
          ]
        },
        {
          "output_type": "stream",
          "name": "stderr",
          "text": [
            "\n",
            "Loss: 4.939e-01 - Acc: 84.19%: 100%|██████████| 12/12 [00:15<00:00,  1.28s/it]\n",
            "Loss: 4.165e-01 - Acc: 87.27% : 100%|██████████| 2/2 [00:08<00:00,  4.20s/it]\n"
          ]
        },
        {
          "output_type": "stream",
          "name": "stdout",
          "text": [
            "Epoch  50 finished in 24.26s\n"
          ]
        },
        {
          "output_type": "display_data",
          "data": {
            "text/plain": [
              "<Figure size 432x288 with 1 Axes>"
            ],
            "image/png": "[encoded data removed]"
          },
          "metadata": {
            "needs_background": "light"
          }
        },
        {
          "output_type": "display_data",
          "data": {
            "text/plain": [
              "<Figure size 432x288 with 1 Axes>"
            ],
            "image/png": "[encoded data removed]"
          },
          "metadata": {
            "needs_background": "light"
          }
        },
        {
          "output_type": "stream",
          "name": "stdout",
          "text": [
            "Best Accuracy:87.67%\n"
          ]
        }
      ]
    },
    {
      "cell_type": "code",
      "source": [
        "accs = []\n",
        "class AlexNet5(nn.Module):\n",
        "    def __init__(self, num_classes: int = 15, dropout: float = 0.5) -> None:\n",
        "        super().__init__()\n",
        "        self.features = nn.Sequential(\n",
        "            nn.Conv2d(3, 64, kernel_size=11, stride=4, padding=2),\n",
        "            nn.ReLU(inplace=True),\n",
        "            nn.MaxPool2d(kernel_size=3, stride=2),\n",
        "            nn.Conv2d(64, 192, kernel_size=5, padding=2),\n",
        "            nn.ReLU(inplace=True),\n",
        "            nn.MaxPool2d(kernel_size=3, stride=2),\n",
        "            nn.Conv2d(192, 384, kernel_size=3, padding=1),\n",
        "            nn.ReLU(inplace=True),\n",
        "            nn.Conv2d(384, 256, kernel_size=3, padding=1),\n",
        "            nn.ReLU(inplace=True),\n",
        "            nn.Conv2d(256, 256, kernel_size=3, padding=1),\n",
        "            nn.ReLU(inplace=True),\n",
        "            nn.MaxPool2d(kernel_size=3, stride=2),\n",
        "        )\n",
        "        self.avgpool = nn.AdaptiveAvgPool2d((6, 6))\n",
        "        self.classifier = nn.Sequential(\n",
        "            nn.Dropout(p=dropout),\n",
        "            nn.Linear(256 * 6 * 6, 4096),\n",
        "            nn.ReLU(inplace=True),\n",
        "            nn.Dropout(p=dropout),\n",
        "            nn.Linear(4096, 4096),\n",
        "        )\n",
        "\n",
        "    def forward(self, x: torch.Tensor) -> torch.Tensor:\n",
        "        x = self.features(x)\n",
        "        x = self.avgpool(x)\n",
        "        x = torch.flatten(x, 1)\n",
        "        x = self.classifier(x)\n",
        "        return x\n",
        "\n",
        "class lastLayer(nn.Module):\n",
        "    def __init__(self, pretrained):\n",
        "        super(lastLayer, self).__init__()\n",
        "        self.pretrained = pretrained\n",
        "        self.last = nn.Sequential(nn.ReLU(inplace=True),\n",
        "                                           nn.Linear(4096, 15))\n",
        "    \n",
        "    def forward(self, x):\n",
        "        x = self.pretrained(x)\n",
        "        x = self.last(x)\n",
        "        return x\n",
        "\n",
        "\n",
        "net = AlexNet5()\n",
        "\n",
        "\n",
        "state_dict = load_state_dict_from_url(model_urls[\"alexnet\"], progress=True)\n",
        "net.load_state_dict(state_dict,strict=False)\n",
        "net = lastLayer(net).to(device)\n",
        "\n",
        "criterion = nn.CrossEntropyLoss().to(device)\n",
        "optimizer = torch.optim.Adam(net.parameters(), lr=1e-4)\n",
        "\n",
        "\n",
        "epochs = 50\n",
        "from time import time\n",
        "accs_train = []\n",
        "loss_train = []\n",
        "accs_test = []\n",
        "loss_test = []\n",
        "for e in range(epochs):\n",
        "    start_time = time()\n",
        "    accs_train,loss_train = train_epoch(net, criterion, optimizer, trainloader,accs_train,loss_train)\n",
        "    accs_test,loss_test = eval_epoch(net, criterion, valloader,accs_test,loss_test)\n",
        "\n",
        "    end_time = time()\n",
        "\n",
        "    print(f'Epoch {e+1:3} finished in {end_time - start_time:.2f}s')\n",
        "\n",
        "plt.plot(np.array(loss_test), 'r')\n",
        "plt.plot(np.array(loss_train), 'b')\n",
        "plt.title('Model loss')\n",
        "plt.ylabel('Loss')\n",
        "plt.xlabel('Epoch')\n",
        "plt.legend(['Test', 'Train'])\n",
        "plt.savefig('loss5.jpg')\n",
        "plt.show()\n",
        "\n",
        "plt.plot(np.array(accs_test), 'r')\n",
        "plt.plot(np.array(accs_train), 'b')\n",
        "plt.title('Model Accuracy')\n",
        "plt.ylabel('Accuracy')\n",
        "plt.xlabel('Epoch')\n",
        "plt.legend(['Test', 'Train'])\n",
        "plt.savefig('acc5.jpg')\n",
        "plt.show()\n",
        "\n",
        "torch.save(net.state_dict(), 'alexNet5.pth')\n",
        "print(f'Best Accuracy:{max(accs_test) * 100.:.2f}%')"
      ],
      "metadata": {
        "id": "9YCdkuB22eC1",
        "colab": {
          "base_uri": "https://localhost:8080/",
          "height": 1000
        },
        "outputId": "772d1e26-d62a-4211-995f-399e34ceaf64"
      },
      "execution_count": 25,
      "outputs": [
        {
          "output_type": "stream",
          "name": "stderr",
          "text": [
            "Loss: 1.698e+00 - Acc: 46.80%: 100%|██████████| 12/12 [00:16<00:00,  1.36s/it]\n",
            "Loss: 6.767e-01 - Acc: 75.40% : 100%|██████████| 2/2 [00:08<00:00,  4.26s/it]\n"
          ]
        },
        {
          "output_type": "stream",
          "name": "stdout",
          "text": [
            "Epoch   1 finished in 25.22s\n"
          ]
        },
        {
          "output_type": "stream",
          "name": "stderr",
          "text": [
            "Loss: 7.721e-01 - Acc: 73.57%: 100%|██████████| 12/12 [00:15<00:00,  1.32s/it]\n",
            "Loss: 5.337e-01 - Acc: 81.33% : 100%|██████████| 2/2 [00:08<00:00,  4.27s/it]\n"
          ]
        },
        {
          "output_type": "stream",
          "name": "stdout",
          "text": [
            "Epoch   2 finished in 24.86s\n"
          ]
        },
        {
          "output_type": "stream",
          "name": "stderr",
          "text": [
            "Loss: 5.531e-01 - Acc: 80.47%: 100%|██████████| 12/12 [00:17<00:00,  1.43s/it]\n",
            "Loss: 4.990e-01 - Acc: 84.13% : 100%|██████████| 2/2 [00:08<00:00,  4.25s/it]\n"
          ]
        },
        {
          "output_type": "stream",
          "name": "stdout",
          "text": [
            "Epoch   3 finished in 26.09s\n"
          ]
        },
        {
          "output_type": "stream",
          "name": "stderr",
          "text": [
            "Loss: 4.476e-01 - Acc: 84.66%: 100%|██████████| 12/12 [00:15<00:00,  1.28s/it]\n",
            "Loss: 4.776e-01 - Acc: 85.53% : 100%|██████████| 2/2 [00:08<00:00,  4.17s/it]\n"
          ]
        },
        {
          "output_type": "stream",
          "name": "stdout",
          "text": [
            "Epoch   4 finished in 24.11s\n"
          ]
        },
        {
          "output_type": "stream",
          "name": "stderr",
          "text": [
            "Loss: 3.911e-01 - Acc: 86.43%: 100%|██████████| 12/12 [00:15<00:00,  1.30s/it]\n",
            "Loss: 4.611e-01 - Acc: 86.47% : 100%|██████████| 2/2 [00:09<00:00,  4.60s/it]\n"
          ]
        },
        {
          "output_type": "stream",
          "name": "stdout",
          "text": [
            "Epoch   5 finished in 25.28s\n"
          ]
        },
        {
          "output_type": "stream",
          "name": "stderr",
          "text": [
            "Loss: 3.553e-01 - Acc: 87.64%: 100%|██████████| 12/12 [00:15<00:00,  1.30s/it]\n",
            "Loss: 4.795e-01 - Acc: 85.27% : 100%|██████████| 2/2 [00:08<00:00,  4.18s/it]\n"
          ]
        },
        {
          "output_type": "stream",
          "name": "stdout",
          "text": [
            "Epoch   6 finished in 24.39s\n"
          ]
        },
        {
          "output_type": "stream",
          "name": "stderr",
          "text": [
            "Loss: 2.787e-01 - Acc: 90.72%: 100%|██████████| 12/12 [00:15<00:00,  1.30s/it]\n",
            "Loss: 4.164e-01 - Acc: 87.73% : 100%|██████████| 2/2 [00:08<00:00,  4.19s/it]\n"
          ]
        },
        {
          "output_type": "stream",
          "name": "stdout",
          "text": [
            "Epoch   7 finished in 24.34s\n"
          ]
        },
        {
          "output_type": "stream",
          "name": "stderr",
          "text": [
            "Loss: 2.626e-01 - Acc: 90.45%: 100%|██████████| 12/12 [00:16<00:00,  1.41s/it]\n",
            "Loss: 4.002e-01 - Acc: 88.13% : 100%|██████████| 2/2 [00:08<00:00,  4.15s/it]\n"
          ]
        },
        {
          "output_type": "stream",
          "name": "stdout",
          "text": [
            "Epoch   8 finished in 25.60s\n"
          ]
        },
        {
          "output_type": "stream",
          "name": "stderr",
          "text": [
            "Loss: 2.289e-01 - Acc: 92.70%: 100%|██████████| 12/12 [00:15<00:00,  1.29s/it]\n",
            "Loss: 4.600e-01 - Acc: 87.87% : 100%|██████████| 2/2 [00:08<00:00,  4.22s/it]\n"
          ]
        },
        {
          "output_type": "stream",
          "name": "stdout",
          "text": [
            "Epoch   9 finished in 24.40s\n"
          ]
        },
        {
          "output_type": "stream",
          "name": "stderr",
          "text": [
            "Loss: 1.939e-01 - Acc: 93.37%: 100%|██████████| 12/12 [00:16<00:00,  1.36s/it]\n",
            "Loss: 4.433e-01 - Acc: 88.27% : 100%|██████████| 2/2 [00:08<00:00,  4.29s/it]\n"
          ]
        },
        {
          "output_type": "stream",
          "name": "stdout",
          "text": [
            "Epoch  10 finished in 25.44s\n"
          ]
        },
        {
          "output_type": "stream",
          "name": "stderr",
          "text": [
            "Loss: 1.744e-01 - Acc: 93.53%: 100%|██████████| 12/12 [00:15<00:00,  1.28s/it]\n",
            "Loss: 4.556e-01 - Acc: 88.27% : 100%|██████████| 2/2 [00:08<00:00,  4.17s/it]\n"
          ]
        },
        {
          "output_type": "stream",
          "name": "stdout",
          "text": [
            "Epoch  11 finished in 24.15s\n"
          ]
        },
        {
          "output_type": "stream",
          "name": "stderr",
          "text": [
            "Loss: 1.660e-01 - Acc: 94.44%: 100%|██████████| 12/12 [00:15<00:00,  1.31s/it]\n",
            "Loss: 5.187e-01 - Acc: 87.67% : 100%|██████████| 2/2 [00:08<00:00,  4.19s/it]\n"
          ]
        },
        {
          "output_type": "stream",
          "name": "stdout",
          "text": [
            "Epoch  12 finished in 24.47s\n"
          ]
        },
        {
          "output_type": "stream",
          "name": "stderr",
          "text": [
            "Loss: 1.412e-01 - Acc: 95.48%: 100%|██████████| 12/12 [00:16<00:00,  1.41s/it]\n",
            "Loss: 4.811e-01 - Acc: 88.47% : 100%|██████████| 2/2 [00:08<00:00,  4.12s/it]\n"
          ]
        },
        {
          "output_type": "stream",
          "name": "stdout",
          "text": [
            "Epoch  13 finished in 25.54s\n"
          ]
        },
        {
          "output_type": "stream",
          "name": "stderr",
          "text": [
            "Loss: 1.604e-01 - Acc: 94.41%: 100%|██████████| 12/12 [00:15<00:00,  1.30s/it]\n",
            "Loss: 5.605e-01 - Acc: 87.07% : 100%|██████████| 2/2 [00:08<00:00,  4.15s/it]\n"
          ]
        },
        {
          "output_type": "stream",
          "name": "stdout",
          "text": [
            "Epoch  14 finished in 24.26s\n"
          ]
        },
        {
          "output_type": "stream",
          "name": "stderr",
          "text": [
            "Loss: 1.470e-01 - Acc: 95.44%: 100%|██████████| 12/12 [00:16<00:00,  1.39s/it]\n",
            "Loss: 4.305e-01 - Acc: 88.53% : 100%|██████████| 2/2 [00:08<00:00,  4.19s/it]\n"
          ]
        },
        {
          "output_type": "stream",
          "name": "stdout",
          "text": [
            "Epoch  15 finished in 25.48s\n"
          ]
        },
        {
          "output_type": "stream",
          "name": "stderr",
          "text": [
            "Loss: 1.292e-01 - Acc: 95.75%: 100%|██████████| 12/12 [00:15<00:00,  1.32s/it]\n",
            "Loss: 4.712e-01 - Acc: 87.67% : 100%|██████████| 2/2 [00:08<00:00,  4.20s/it]\n"
          ]
        },
        {
          "output_type": "stream",
          "name": "stdout",
          "text": [
            "Epoch  16 finished in 24.64s\n"
          ]
        },
        {
          "output_type": "stream",
          "name": "stderr",
          "text": [
            "Loss: 1.135e-01 - Acc: 96.05%: 100%|██████████| 12/12 [00:15<00:00,  1.29s/it]\n",
            "Loss: 5.323e-01 - Acc: 87.87% : 100%|██████████| 2/2 [00:08<00:00,  4.27s/it]\n"
          ]
        },
        {
          "output_type": "stream",
          "name": "stdout",
          "text": [
            "Epoch  17 finished in 24.50s\n"
          ]
        },
        {
          "output_type": "stream",
          "name": "stderr",
          "text": [
            "Loss: 1.179e-01 - Acc: 95.98%: 100%|██████████| 12/12 [00:16<00:00,  1.36s/it]\n",
            "Loss: 6.304e-01 - Acc: 87.87% : 100%|██████████| 2/2 [00:08<00:00,  4.15s/it]\n"
          ]
        },
        {
          "output_type": "stream",
          "name": "stdout",
          "text": [
            "Epoch  18 finished in 25.04s\n"
          ]
        },
        {
          "output_type": "stream",
          "name": "stderr",
          "text": [
            "Loss: 1.085e-01 - Acc: 96.08%: 100%|██████████| 12/12 [00:15<00:00,  1.31s/it]\n",
            "Loss: 4.789e-01 - Acc: 88.60% : 100%|██████████| 2/2 [00:08<00:00,  4.19s/it]\n"
          ]
        },
        {
          "output_type": "stream",
          "name": "stdout",
          "text": [
            "Epoch  19 finished in 24.46s\n"
          ]
        },
        {
          "output_type": "stream",
          "name": "stderr",
          "text": [
            "Loss: 1.095e-01 - Acc: 96.25%: 100%|██████████| 12/12 [00:16<00:00,  1.40s/it]\n",
            "Loss: 4.835e-01 - Acc: 88.33% : 100%|██████████| 2/2 [00:08<00:00,  4.11s/it]\n"
          ]
        },
        {
          "output_type": "stream",
          "name": "stdout",
          "text": [
            "Epoch  20 finished in 25.41s\n"
          ]
        },
        {
          "output_type": "stream",
          "name": "stderr",
          "text": [
            "Loss: 1.071e-01 - Acc: 96.18%: 100%|██████████| 12/12 [00:15<00:00,  1.29s/it]\n",
            "Loss: 5.800e-01 - Acc: 88.40% : 100%|██████████| 2/2 [00:08<00:00,  4.21s/it]\n"
          ]
        },
        {
          "output_type": "stream",
          "name": "stdout",
          "text": [
            "Epoch  21 finished in 24.34s\n"
          ]
        },
        {
          "output_type": "stream",
          "name": "stderr",
          "text": [
            "Loss: 9.194e-02 - Acc: 96.88%: 100%|██████████| 12/12 [00:15<00:00,  1.29s/it]\n",
            "Loss: 5.172e-01 - Acc: 87.73% : 100%|██████████| 2/2 [00:09<00:00,  4.55s/it]\n"
          ]
        },
        {
          "output_type": "stream",
          "name": "stdout",
          "text": [
            "Epoch  22 finished in 24.98s\n"
          ]
        },
        {
          "output_type": "stream",
          "name": "stderr",
          "text": [
            "Loss: 1.089e-01 - Acc: 96.58%: 100%|██████████| 12/12 [00:15<00:00,  1.29s/it]\n",
            "Loss: 4.674e-01 - Acc: 88.67% : 100%|██████████| 2/2 [00:08<00:00,  4.16s/it]\n"
          ]
        },
        {
          "output_type": "stream",
          "name": "stdout",
          "text": [
            "Epoch  23 finished in 24.28s\n"
          ]
        },
        {
          "output_type": "stream",
          "name": "stderr",
          "text": [
            "Loss: 9.206e-02 - Acc: 97.05%: 100%|██████████| 12/12 [00:15<00:00,  1.29s/it]\n",
            "Loss: 4.346e-01 - Acc: 89.20% : 100%|██████████| 2/2 [00:08<00:00,  4.12s/it]\n"
          ]
        },
        {
          "output_type": "stream",
          "name": "stdout",
          "text": [
            "Epoch  24 finished in 24.17s\n"
          ]
        },
        {
          "output_type": "stream",
          "name": "stderr",
          "text": [
            "Loss: 9.751e-02 - Acc: 96.72%: 100%|██████████| 12/12 [00:16<00:00,  1.40s/it]\n",
            "Loss: 4.967e-01 - Acc: 88.13% : 100%|██████████| 2/2 [00:08<00:00,  4.19s/it]\n"
          ]
        },
        {
          "output_type": "stream",
          "name": "stdout",
          "text": [
            "Epoch  25 finished in 25.62s\n"
          ]
        },
        {
          "output_type": "stream",
          "name": "stderr",
          "text": [
            "Loss: 8.307e-02 - Acc: 97.22%: 100%|██████████| 12/12 [00:15<00:00,  1.29s/it]\n",
            "Loss: 5.141e-01 - Acc: 89.07% : 100%|██████████| 2/2 [00:08<00:00,  4.20s/it]\n"
          ]
        },
        {
          "output_type": "stream",
          "name": "stdout",
          "text": [
            "Epoch  26 finished in 24.26s\n"
          ]
        },
        {
          "output_type": "stream",
          "name": "stderr",
          "text": [
            "Loss: 8.618e-02 - Acc: 97.29%: 100%|██████████| 12/12 [00:15<00:00,  1.28s/it]\n",
            "Loss: 7.441e-01 - Acc: 87.13% : 100%|██████████| 2/2 [00:09<00:00,  4.55s/it]\n"
          ]
        },
        {
          "output_type": "stream",
          "name": "stdout",
          "text": [
            "Epoch  27 finished in 24.93s\n"
          ]
        },
        {
          "output_type": "stream",
          "name": "stderr",
          "text": [
            "Loss: 7.677e-02 - Acc: 97.39%: 100%|██████████| 12/12 [00:15<00:00,  1.30s/it]\n",
            "Loss: 7.550e-01 - Acc: 86.67% : 100%|██████████| 2/2 [00:08<00:00,  4.26s/it]\n"
          ]
        },
        {
          "output_type": "stream",
          "name": "stdout",
          "text": [
            "Epoch  28 finished in 24.57s\n"
          ]
        },
        {
          "output_type": "stream",
          "name": "stderr",
          "text": [
            "Loss: 7.692e-02 - Acc: 97.72%: 100%|██████████| 12/12 [00:15<00:00,  1.31s/it]\n",
            "Loss: 5.502e-01 - Acc: 88.80% : 100%|██████████| 2/2 [00:08<00:00,  4.14s/it]\n"
          ]
        },
        {
          "output_type": "stream",
          "name": "stdout",
          "text": [
            "Epoch  29 finished in 24.36s\n"
          ]
        },
        {
          "output_type": "stream",
          "name": "stderr",
          "text": [
            "Loss: 7.565e-02 - Acc: 97.62%: 100%|██████████| 12/12 [00:16<00:00,  1.39s/it]\n",
            "Loss: 5.517e-01 - Acc: 88.80% : 100%|██████████| 2/2 [00:08<00:00,  4.13s/it]\n"
          ]
        },
        {
          "output_type": "stream",
          "name": "stdout",
          "text": [
            "Epoch  30 finished in 25.39s\n"
          ]
        },
        {
          "output_type": "stream",
          "name": "stderr",
          "text": [
            "Loss: 8.137e-02 - Acc: 97.45%: 100%|██████████| 12/12 [00:15<00:00,  1.29s/it]\n",
            "Loss: 6.440e-01 - Acc: 87.53% : 100%|██████████| 2/2 [00:08<00:00,  4.18s/it]\n"
          ]
        },
        {
          "output_type": "stream",
          "name": "stdout",
          "text": [
            "Epoch  31 finished in 24.28s\n"
          ]
        },
        {
          "output_type": "stream",
          "name": "stderr",
          "text": [
            "Loss: 6.903e-02 - Acc: 97.69%: 100%|██████████| 12/12 [00:15<00:00,  1.27s/it]\n",
            "Loss: 5.692e-01 - Acc: 88.53% : 100%|██████████| 2/2 [00:09<00:00,  4.57s/it]\n"
          ]
        },
        {
          "output_type": "stream",
          "name": "stdout",
          "text": [
            "Epoch  32 finished in 24.84s\n"
          ]
        },
        {
          "output_type": "stream",
          "name": "stderr",
          "text": [
            "Loss: 8.191e-02 - Acc: 97.32%: 100%|██████████| 12/12 [00:15<00:00,  1.29s/it]\n",
            "Loss: 5.766e-01 - Acc: 88.53% : 100%|██████████| 2/2 [00:08<00:00,  4.14s/it]\n"
          ]
        },
        {
          "output_type": "stream",
          "name": "stdout",
          "text": [
            "Epoch  33 finished in 24.11s\n"
          ]
        },
        {
          "output_type": "stream",
          "name": "stderr",
          "text": [
            "Loss: 6.985e-02 - Acc: 97.86%: 100%|██████████| 12/12 [00:15<00:00,  1.27s/it]\n",
            "Loss: 6.255e-01 - Acc: 87.73% : 100%|██████████| 2/2 [00:08<00:00,  4.13s/it]\n"
          ]
        },
        {
          "output_type": "stream",
          "name": "stdout",
          "text": [
            "Epoch  34 finished in 23.95s\n"
          ]
        },
        {
          "output_type": "stream",
          "name": "stderr",
          "text": [
            "Loss: 6.947e-02 - Acc: 97.82%: 100%|██████████| 12/12 [00:16<00:00,  1.41s/it]\n",
            "Loss: 5.787e-01 - Acc: 88.60% : 100%|██████████| 2/2 [00:08<00:00,  4.19s/it]\n"
          ]
        },
        {
          "output_type": "stream",
          "name": "stdout",
          "text": [
            "Epoch  35 finished in 25.70s\n"
          ]
        },
        {
          "output_type": "stream",
          "name": "stderr",
          "text": [
            "Loss: 6.692e-02 - Acc: 97.86%: 100%|██████████| 12/12 [00:15<00:00,  1.29s/it]\n",
            "Loss: 6.017e-01 - Acc: 88.13% : 100%|██████████| 2/2 [00:08<00:00,  4.20s/it]\n"
          ]
        },
        {
          "output_type": "stream",
          "name": "stdout",
          "text": [
            "Epoch  36 finished in 24.31s\n"
          ]
        },
        {
          "output_type": "stream",
          "name": "stderr",
          "text": [
            "Loss: 6.394e-02 - Acc: 98.06%: 100%|██████████| 12/12 [00:15<00:00,  1.28s/it]\n",
            "Loss: 6.397e-01 - Acc: 87.80% : 100%|██████████| 2/2 [00:09<00:00,  4.63s/it]\n"
          ]
        },
        {
          "output_type": "stream",
          "name": "stdout",
          "text": [
            "Epoch  37 finished in 25.07s\n"
          ]
        },
        {
          "output_type": "stream",
          "name": "stderr",
          "text": [
            "Loss: 6.609e-02 - Acc: 97.76%: 100%|██████████| 12/12 [00:15<00:00,  1.28s/it]\n",
            "Loss: 6.702e-01 - Acc: 88.20% : 100%|██████████| 2/2 [00:08<00:00,  4.35s/it]\n"
          ]
        },
        {
          "output_type": "stream",
          "name": "stdout",
          "text": [
            "Epoch  38 finished in 24.44s\n"
          ]
        },
        {
          "output_type": "stream",
          "name": "stderr",
          "text": [
            "Loss: 8.056e-02 - Acc: 97.22%: 100%|██████████| 12/12 [00:15<00:00,  1.29s/it]\n",
            "Loss: 6.867e-01 - Acc: 87.73% : 100%|██████████| 2/2 [00:08<00:00,  4.34s/it]\n"
          ]
        },
        {
          "output_type": "stream",
          "name": "stdout",
          "text": [
            "Epoch  39 finished in 24.61s\n"
          ]
        },
        {
          "output_type": "stream",
          "name": "stderr",
          "text": [
            "Loss: 6.769e-02 - Acc: 97.76%: 100%|██████████| 12/12 [00:16<00:00,  1.40s/it]\n",
            "Loss: 6.234e-01 - Acc: 88.67% : 100%|██████████| 2/2 [00:08<00:00,  4.33s/it]\n"
          ]
        },
        {
          "output_type": "stream",
          "name": "stdout",
          "text": [
            "Epoch  40 finished in 25.93s\n"
          ]
        },
        {
          "output_type": "stream",
          "name": "stderr",
          "text": [
            "Loss: 6.806e-02 - Acc: 97.76%: 100%|██████████| 12/12 [00:15<00:00,  1.32s/it]\n",
            "Loss: 5.784e-01 - Acc: 88.47% : 100%|██████████| 2/2 [00:08<00:00,  4.29s/it]\n"
          ]
        },
        {
          "output_type": "stream",
          "name": "stdout",
          "text": [
            "Epoch  41 finished in 24.84s\n"
          ]
        },
        {
          "output_type": "stream",
          "name": "stderr",
          "text": [
            "Loss: 4.658e-02 - Acc: 98.59%: 100%|██████████| 12/12 [00:15<00:00,  1.29s/it]\n",
            "Loss: 6.173e-01 - Acc: 88.67% : 100%|██████████| 2/2 [00:09<00:00,  4.97s/it]\n"
          ]
        },
        {
          "output_type": "stream",
          "name": "stdout",
          "text": [
            "Epoch  42 finished in 25.84s\n"
          ]
        },
        {
          "output_type": "stream",
          "name": "stderr",
          "text": [
            "Loss: 5.523e-02 - Acc: 98.19%: 100%|██████████| 12/12 [00:15<00:00,  1.29s/it]\n",
            "Loss: 7.057e-01 - Acc: 87.87% : 100%|██████████| 2/2 [00:08<00:00,  4.33s/it]\n"
          ]
        },
        {
          "output_type": "stream",
          "name": "stdout",
          "text": [
            "Epoch  43 finished in 24.60s\n"
          ]
        },
        {
          "output_type": "stream",
          "name": "stderr",
          "text": [
            "Loss: 6.606e-02 - Acc: 97.69%: 100%|██████████| 12/12 [00:15<00:00,  1.28s/it]\n",
            "Loss: 6.902e-01 - Acc: 88.20% : 100%|██████████| 2/2 [00:08<00:00,  4.39s/it]\n"
          ]
        },
        {
          "output_type": "stream",
          "name": "stdout",
          "text": [
            "Epoch  44 finished in 24.50s\n"
          ]
        },
        {
          "output_type": "stream",
          "name": "stderr",
          "text": [
            "Loss: 6.013e-02 - Acc: 98.22%: 100%|██████████| 12/12 [00:16<00:00,  1.41s/it]\n",
            "Loss: 6.498e-01 - Acc: 88.07% : 100%|██████████| 2/2 [00:08<00:00,  4.38s/it]\n"
          ]
        },
        {
          "output_type": "stream",
          "name": "stdout",
          "text": [
            "Epoch  45 finished in 26.12s\n"
          ]
        },
        {
          "output_type": "stream",
          "name": "stderr",
          "text": [
            "Loss: 6.899e-02 - Acc: 97.79%: 100%|██████████| 12/12 [00:15<00:00,  1.28s/it]\n",
            "Loss: 5.233e-01 - Acc: 88.07% : 100%|██████████| 2/2 [00:08<00:00,  4.29s/it]\n"
          ]
        },
        {
          "output_type": "stream",
          "name": "stdout",
          "text": [
            "Epoch  46 finished in 24.42s\n"
          ]
        },
        {
          "output_type": "stream",
          "name": "stderr",
          "text": [
            "Loss: 5.257e-02 - Acc: 98.29%: 100%|██████████| 12/12 [00:15<00:00,  1.29s/it]\n",
            "Loss: 7.146e-01 - Acc: 87.53% : 100%|██████████| 2/2 [00:09<00:00,  4.97s/it]\n"
          ]
        },
        {
          "output_type": "stream",
          "name": "stdout",
          "text": [
            "Epoch  47 finished in 25.85s\n"
          ]
        },
        {
          "output_type": "stream",
          "name": "stderr",
          "text": [
            "Loss: 6.950e-02 - Acc: 97.65%: 100%|██████████| 12/12 [00:15<00:00,  1.30s/it]\n",
            "Loss: 6.587e-01 - Acc: 87.87% : 100%|██████████| 2/2 [00:08<00:00,  4.28s/it]\n"
          ]
        },
        {
          "output_type": "stream",
          "name": "stdout",
          "text": [
            "Epoch  48 finished in 24.53s\n"
          ]
        },
        {
          "output_type": "stream",
          "name": "stderr",
          "text": [
            "Loss: 5.852e-02 - Acc: 98.22%: 100%|██████████| 12/12 [00:15<00:00,  1.28s/it]\n",
            "Loss: 7.392e-01 - Acc: 87.87% : 100%|██████████| 2/2 [00:08<00:00,  4.33s/it]\n"
          ]
        },
        {
          "output_type": "stream",
          "name": "stdout",
          "text": [
            "Epoch  49 finished in 24.48s\n"
          ]
        },
        {
          "output_type": "stream",
          "name": "stderr",
          "text": [
            "Loss: 5.283e-02 - Acc: 98.36%: 100%|██████████| 12/12 [00:16<00:00,  1.40s/it]\n",
            "Loss: 5.988e-01 - Acc: 88.87% : 100%|██████████| 2/2 [00:08<00:00,  4.38s/it]\n"
          ]
        },
        {
          "output_type": "stream",
          "name": "stdout",
          "text": [
            "Epoch  50 finished in 26.00s\n"
          ]
        },
        {
          "output_type": "display_data",
          "data": {
            "text/plain": [
              "<Figure size 432x288 with 1 Axes>"
            ],
            "image/png": "[encoded data removed]"
          },
          "metadata": {
            "needs_background": "light"
          }
        },
        {
          "output_type": "display_data",
          "data": {
            "text/plain": [
              "<Figure size 432x288 with 1 Axes>"
            ],
            "image/png": "[encoded data removed]"
          },
          "metadata": {
            "needs_background": "light"
          }
        },
        {
          "output_type": "stream",
          "name": "stdout",
          "text": [
            "Best Accuracy:89.20%\n"
          ]
        }
      ]
    }
  ]
}